{
  "cells": [
    {
      "cell_type": "markdown",
      "metadata": {
        "id": "8Mrv4-3auERg"
      },
      "source": [
        "# Sentiment Analysis\n"
      ]
    },
    {
      "cell_type": "markdown",
      "metadata": {
        "id": "WMtvx9UmuERi"
      },
      "source": [
        "## Fake News Detection Using NLP Techniques\n",
        "\n",
        "This project focuses on identifying and analyzing fake news circulating on a social media platform. Natural Language Processing techniques are used to preprocess the text data, followed by feature extraction using TF-IDF. Latent Semantic Analysis (LSA) and Latent Dirichlet Allocation (LDA) are applied for topic modeling to uncover hidden patterns in the news content. Sentiment analysis is also performed to assess the emotional tone of articles. The results are visualized to support interpretation and drive strategic decisions aimed at reducing misinformation on the platform."
      ]
    },
    {
      "cell_type": "markdown",
      "metadata": {
        "id": "Ri0jpfMCuERj"
      },
      "source": [
        "## Import Data"
      ]
    },
    {
      "cell_type": "code",
      "execution_count": 5,
      "metadata": {
        "id": "KYS-YEviuERk"
      },
      "outputs": [],
      "source": [
        "import pandas as pd\n",
        "import matplotlib.pyplot as plt"
      ]
    },
    {
      "cell_type": "code",
      "execution_count": 6,
      "metadata": {
        "id": "yjLBAWjQuERl"
      },
      "outputs": [],
      "source": [
        "# set plot options\n",
        "plt.rcParams['figure.figsize'] = (12, 8)\n",
        "default_plot_colour = \"#00bfbf\""
      ]
    },
    {
      "cell_type": "code",
      "execution_count": 7,
      "metadata": {
        "id": "8M1QS87BuERl"
      },
      "outputs": [],
      "source": [
        "data = pd.read_csv(\"fake_news_data.csv\")"
      ]
    },
    {
      "cell_type": "code",
      "execution_count": 8,
      "metadata": {
        "colab": {
          "base_uri": "https://localhost:8080/",
          "height": 206
        },
        "id": "MboEsDhTuERm",
        "outputId": "2e657a6a-c904-4d42-e313-e877148fe484"
      },
      "outputs": [
        {
          "output_type": "execute_result",
          "data": {
            "text/plain": [
              "                                               title  \\\n",
              "0  HOLLYWEIRD LIB SUSAN SARANDON Compares Muslim ...   \n",
              "1   Elijah Cummings Called Trump Out To His Face ...   \n",
              "2   Hillary Clinton Says Half Her Cabinet Will Be...   \n",
              "3  Russian bombing of U.S.-backed forces being di...   \n",
              "4  Britain says window to restore Northern Irelan...   \n",
              "\n",
              "                                                text                 date  \\\n",
              "0  There are two small problems with your analogy...         Dec 30, 2015   \n",
              "1  Buried in Trump s bonkers interview with New Y...        April 6, 2017   \n",
              "2  Women make up over 50 percent of this country,...       April 26, 2016   \n",
              "3  WASHINGTON (Reuters) - U.S. Defense Secretary ...  September 18, 2017    \n",
              "4  BELFAST (Reuters) - Northern Ireland s politic...   September 4, 2017    \n",
              "\n",
              "  fake_or_factual  \n",
              "0       Fake News  \n",
              "1       Fake News  \n",
              "2       Fake News  \n",
              "3    Factual News  \n",
              "4    Factual News  "
            ],
            "text/html": [
              "\n",
              "  <div id=\"df-2387cf1d-5502-4e7a-8d91-8dadae2f0b8b\" class=\"colab-df-container\">\n",
              "    <div>\n",
              "<style scoped>\n",
              "    .dataframe tbody tr th:only-of-type {\n",
              "        vertical-align: middle;\n",
              "    }\n",
              "\n",
              "    .dataframe tbody tr th {\n",
              "        vertical-align: top;\n",
              "    }\n",
              "\n",
              "    .dataframe thead th {\n",
              "        text-align: right;\n",
              "    }\n",
              "</style>\n",
              "<table border=\"1\" class=\"dataframe\">\n",
              "  <thead>\n",
              "    <tr style=\"text-align: right;\">\n",
              "      <th></th>\n",
              "      <th>title</th>\n",
              "      <th>text</th>\n",
              "      <th>date</th>\n",
              "      <th>fake_or_factual</th>\n",
              "    </tr>\n",
              "  </thead>\n",
              "  <tbody>\n",
              "    <tr>\n",
              "      <th>0</th>\n",
              "      <td>HOLLYWEIRD LIB SUSAN SARANDON Compares Muslim ...</td>\n",
              "      <td>There are two small problems with your analogy...</td>\n",
              "      <td>Dec 30, 2015</td>\n",
              "      <td>Fake News</td>\n",
              "    </tr>\n",
              "    <tr>\n",
              "      <th>1</th>\n",
              "      <td>Elijah Cummings Called Trump Out To His Face ...</td>\n",
              "      <td>Buried in Trump s bonkers interview with New Y...</td>\n",
              "      <td>April 6, 2017</td>\n",
              "      <td>Fake News</td>\n",
              "    </tr>\n",
              "    <tr>\n",
              "      <th>2</th>\n",
              "      <td>Hillary Clinton Says Half Her Cabinet Will Be...</td>\n",
              "      <td>Women make up over 50 percent of this country,...</td>\n",
              "      <td>April 26, 2016</td>\n",
              "      <td>Fake News</td>\n",
              "    </tr>\n",
              "    <tr>\n",
              "      <th>3</th>\n",
              "      <td>Russian bombing of U.S.-backed forces being di...</td>\n",
              "      <td>WASHINGTON (Reuters) - U.S. Defense Secretary ...</td>\n",
              "      <td>September 18, 2017</td>\n",
              "      <td>Factual News</td>\n",
              "    </tr>\n",
              "    <tr>\n",
              "      <th>4</th>\n",
              "      <td>Britain says window to restore Northern Irelan...</td>\n",
              "      <td>BELFAST (Reuters) - Northern Ireland s politic...</td>\n",
              "      <td>September 4, 2017</td>\n",
              "      <td>Factual News</td>\n",
              "    </tr>\n",
              "  </tbody>\n",
              "</table>\n",
              "</div>\n",
              "    <div class=\"colab-df-buttons\">\n",
              "      \n",
              "  <div class=\"colab-df-container\">\n",
              "    <button class=\"colab-df-convert\" onclick=\"convertToInteractive('df-2387cf1d-5502-4e7a-8d91-8dadae2f0b8b')\"\n",
              "            title=\"Convert this dataframe to an interactive table.\"\n",
              "            style=\"display:none;\">\n",
              "      \n",
              "  <svg xmlns=\"http://www.w3.org/2000/svg\" height=\"24px\" viewBox=\"0 -960 960 960\">\n",
              "    <path d=\"M120-120v-720h720v720H120Zm60-500h600v-160H180v160Zm220 220h160v-160H400v160Zm0 220h160v-160H400v160ZM180-400h160v-160H180v160Zm440 0h160v-160H620v160ZM180-180h160v-160H180v160Zm440 0h160v-160H620v160Z\"/>\n",
              "  </svg>\n",
              "    </button>\n",
              "    \n",
              "  <style>\n",
              "    .colab-df-container {\n",
              "      display:flex;\n",
              "      gap: 12px;\n",
              "    }\n",
              "\n",
              "    .colab-df-convert {\n",
              "      background-color: #E8F0FE;\n",
              "      border: none;\n",
              "      border-radius: 50%;\n",
              "      cursor: pointer;\n",
              "      display: none;\n",
              "      fill: #1967D2;\n",
              "      height: 32px;\n",
              "      padding: 0 0 0 0;\n",
              "      width: 32px;\n",
              "    }\n",
              "\n",
              "    .colab-df-convert:hover {\n",
              "      background-color: #E2EBFA;\n",
              "      box-shadow: 0px 1px 2px rgba(60, 64, 67, 0.3), 0px 1px 3px 1px rgba(60, 64, 67, 0.15);\n",
              "      fill: #174EA6;\n",
              "    }\n",
              "\n",
              "    .colab-df-buttons div {\n",
              "      margin-bottom: 4px;\n",
              "    }\n",
              "\n",
              "    [theme=dark] .colab-df-convert {\n",
              "      background-color: #3B4455;\n",
              "      fill: #D2E3FC;\n",
              "    }\n",
              "\n",
              "    [theme=dark] .colab-df-convert:hover {\n",
              "      background-color: #434B5C;\n",
              "      box-shadow: 0px 1px 3px 1px rgba(0, 0, 0, 0.15);\n",
              "      filter: drop-shadow(0px 1px 2px rgba(0, 0, 0, 0.3));\n",
              "      fill: #FFFFFF;\n",
              "    }\n",
              "  </style>\n",
              "\n",
              "    <script>\n",
              "      const buttonEl =\n",
              "        document.querySelector('#df-2387cf1d-5502-4e7a-8d91-8dadae2f0b8b button.colab-df-convert');\n",
              "      buttonEl.style.display =\n",
              "        google.colab.kernel.accessAllowed ? 'block' : 'none';\n",
              "\n",
              "      async function convertToInteractive(key) {\n",
              "        const element = document.querySelector('#df-2387cf1d-5502-4e7a-8d91-8dadae2f0b8b');\n",
              "        const dataTable =\n",
              "          await google.colab.kernel.invokeFunction('convertToInteractive',\n",
              "                                                    [key], {});\n",
              "        if (!dataTable) return;\n",
              "\n",
              "        const docLinkHtml = 'Like what you see? Visit the ' +\n",
              "          '<a target=\"_blank\" href=https://colab.research.google.com/notebooks/data_table.ipynb>data table notebook</a>'\n",
              "          + ' to learn more about interactive tables.';\n",
              "        element.innerHTML = '';\n",
              "        dataTable['output_type'] = 'display_data';\n",
              "        await google.colab.output.renderOutput(dataTable, element);\n",
              "        const docLink = document.createElement('div');\n",
              "        docLink.innerHTML = docLinkHtml;\n",
              "        element.appendChild(docLink);\n",
              "      }\n",
              "    </script>\n",
              "  </div>\n",
              "  \n",
              "    </div>\n",
              "  </div>\n",
              "  "
            ]
          },
          "metadata": {},
          "execution_count": 8
        }
      ],
      "source": [
        "data.head()"
      ]
    },
    {
      "cell_type": "code",
      "execution_count": 9,
      "metadata": {
        "colab": {
          "base_uri": "https://localhost:8080/"
        },
        "id": "cpeJSuPzuERn",
        "outputId": "1d81e6b5-6b01-40e0-873b-e591b2305c0b"
      },
      "outputs": [
        {
          "output_type": "stream",
          "name": "stdout",
          "text": [
            "<class 'pandas.core.frame.DataFrame'>\n",
            "RangeIndex: 198 entries, 0 to 197\n",
            "Data columns (total 4 columns):\n",
            " #   Column           Non-Null Count  Dtype \n",
            "---  ------           --------------  ----- \n",
            " 0   title            198 non-null    object\n",
            " 1   text             198 non-null    object\n",
            " 2   date             198 non-null    object\n",
            " 3   fake_or_factual  198 non-null    object\n",
            "dtypes: object(4)\n",
            "memory usage: 6.3+ KB\n"
          ]
        }
      ],
      "source": [
        "data.info()"
      ]
    },
    {
      "cell_type": "code",
      "execution_count": 10,
      "metadata": {
        "colab": {
          "base_uri": "https://localhost:8080/",
          "height": 813
        },
        "id": "7Tds0w17uERn",
        "outputId": "ceab29b1-fd22-4ebb-e5d2-07a563976a49"
      },
      "outputs": [
        {
          "output_type": "execute_result",
          "data": {
            "text/plain": [
              "Text(0.5, 0, 'Classification')"
            ]
          },
          "metadata": {},
          "execution_count": 10
        },
        {
          "output_type": "display_data",
          "data": {
            "text/plain": [
              "<Figure size 1200x800 with 1 Axes>"
            ],
            "image/png": "[encoded data removed]"
          },
          "metadata": {}
        }
      ],
      "source": [
        "# plot number of fake and factual articles\n",
        "data['fake_or_factual'].value_counts().plot(kind='bar', color=default_plot_colour)\n",
        "plt.title('Count of Article Classification')\n",
        "plt.ylabel('# of Articles')\n",
        "plt.xlabel('Classification')"
      ]
    },
    {
      "cell_type": "markdown",
      "metadata": {
        "id": "nKzshH-SuERo"
      },
      "source": [
        "## Import packages required for processing and analysis"
      ]
    },
    {
      "cell_type": "code",
      "execution_count": 11,
      "metadata": {
        "colab": {
          "base_uri": "https://localhost:8080/"
        },
        "id": "M-Dk35iquERo",
        "outputId": "e668d2be-d58e-4c2d-a343-4da9a6af2a47"
      },
      "outputs": [
        {
          "output_type": "stream",
          "name": "stdout",
          "text": [
            "Requirement already satisfied: vaderSentiment in /usr/local/lib/python3.11/dist-packages (3.3.2)\n",
            "Requirement already satisfied: requests in /usr/local/lib/python3.11/dist-packages (from vaderSentiment) (2.32.3)\n",
            "Requirement already satisfied: charset-normalizer<4,>=2 in /usr/local/lib/python3.11/dist-packages (from requests->vaderSentiment) (3.4.1)\n",
            "Requirement already satisfied: idna<4,>=2.5 in /usr/local/lib/python3.11/dist-packages (from requests->vaderSentiment) (3.10)\n",
            "Requirement already satisfied: urllib3<3,>=1.21.1 in /usr/local/lib/python3.11/dist-packages (from requests->vaderSentiment) (2.3.0)\n",
            "Requirement already satisfied: certifi>=2017.4.17 in /usr/local/lib/python3.11/dist-packages (from requests->vaderSentiment) (2025.1.31)\n",
            "Requirement already satisfied: gensim in /usr/local/lib/python3.11/dist-packages (4.3.3)\n",
            "Requirement already satisfied: numpy<2.0,>=1.18.5 in /usr/local/lib/python3.11/dist-packages (from gensim) (1.24.4)\n",
            "Requirement already satisfied: scipy<1.14.0,>=1.7.0 in /usr/local/lib/python3.11/dist-packages (from gensim) (1.13.1)\n",
            "Requirement already satisfied: smart-open>=1.8.1 in /usr/local/lib/python3.11/dist-packages (from gensim) (7.1.0)\n",
            "Requirement already satisfied: wrapt in /usr/local/lib/python3.11/dist-packages (from smart-open>=1.8.1->gensim) (1.17.2)\n",
            "Requirement already satisfied: numpy==1.24.4 in /usr/local/lib/python3.11/dist-packages (1.24.4)\n",
            "Requirement already satisfied: gensim in /usr/local/lib/python3.11/dist-packages (4.3.3)\n",
            "Requirement already satisfied: numpy<2.0,>=1.18.5 in /usr/local/lib/python3.11/dist-packages (from gensim) (1.24.4)\n",
            "Requirement already satisfied: scipy<1.14.0,>=1.7.0 in /usr/local/lib/python3.11/dist-packages (from gensim) (1.13.1)\n",
            "Requirement already satisfied: smart-open>=1.8.1 in /usr/local/lib/python3.11/dist-packages (from gensim) (7.1.0)\n",
            "Requirement already satisfied: wrapt in /usr/local/lib/python3.11/dist-packages (from smart-open>=1.8.1->gensim) (1.17.2)\n"
          ]
        }
      ],
      "source": [
        "import seaborn as sns\n",
        "import spacy\n",
        "from spacy import displacy\n",
        "from spacy import tokenizer\n",
        "import re\n",
        "import nltk\n",
        "from nltk.tokenize import word_tokenize\n",
        "from nltk.stem import PorterStemmer, WordNetLemmatizer\n",
        "from nltk.corpus import stopwords\n",
        "!pip install vaderSentiment\n",
        "from vaderSentiment.vaderSentiment import SentimentIntensityAnalyzer\n",
        "!pip install gensim\n",
        "!pip install numpy==1.24.4  # Stable with most libraries\n",
        "!pip install gensim\n",
        "import gensim\n",
        "import gensim.corpora as corpora\n",
        "from gensim.models.coherencemodel import CoherenceModel\n",
        "from gensim.models import LsiModel, TfidfModel\n",
        "from sklearn.feature_extraction.text import TfidfVectorizer\n",
        "from sklearn.feature_extraction.text import CountVectorizer, TfidfVectorizer\n",
        "from sklearn.model_selection import train_test_split\n",
        "from sklearn.linear_model import LogisticRegression, SGDClassifier\n",
        "from sklearn.metrics import accuracy_score, classification_report"
      ]
    },
    {
      "cell_type": "markdown",
      "metadata": {
        "id": "Cr76hdKXuERp"
      },
      "source": [
        "## POS Tagging"
      ]
    },
    {
      "cell_type": "code",
      "execution_count": 12,
      "metadata": {
        "id": "lhpxKxIKuERq"
      },
      "outputs": [],
      "source": [
        "nlp = spacy.load('en_core_web_sm')"
      ]
    },
    {
      "cell_type": "code",
      "execution_count": 13,
      "metadata": {
        "id": "E9NvlnIXuERq"
      },
      "outputs": [],
      "source": [
        "# split data by fake and factual news\n",
        "fake_news = data[data['fake_or_factual'] == \"Fake News\"]\n",
        "fact_news = data[data['fake_or_factual'] == \"Factual News\"]"
      ]
    },
    {
      "cell_type": "code",
      "execution_count": 14,
      "metadata": {
        "id": "CkqLxo59uERq"
      },
      "outputs": [],
      "source": [
        "# create spacey documents - use pipe for dataframe\n",
        "fake_spaceydocs = list(nlp.pipe(fake_news['text']))\n",
        "fact_spaceydocs = list(nlp.pipe(fact_news['text']))"
      ]
    },
    {
      "cell_type": "code",
      "execution_count": 15,
      "metadata": {
        "id": "oe_fJJ5vuERr"
      },
      "outputs": [],
      "source": [
        "# create function to extract tags for each document in our data\n",
        "def extract_token_tags(doc:spacy.tokens.doc.Doc):\n",
        "    return [(i.text, i.ent_type_, i.pos_) for i in doc]"
      ]
    },
    {
      "cell_type": "code",
      "execution_count": 16,
      "metadata": {
        "id": "vUy1RT7quERr"
      },
      "outputs": [],
      "source": [
        "# tag fake dataset\n",
        "fake_tagsdf = []\n",
        "columns = [\"token\", \"ner_tag\", \"pos_tag\"]\n",
        "\n",
        "for ix, doc in enumerate(fake_spaceydocs):\n",
        "    tags = extract_token_tags(doc)\n",
        "    tags = pd.DataFrame(tags)\n",
        "    tags.columns = columns\n",
        "    fake_tagsdf.append(tags)\n",
        "\n",
        "fake_tagsdf = pd.concat(fake_tagsdf)\n",
        "\n",
        "# tag factual dataset\n",
        "fact_tagsdf = []\n",
        "\n",
        "for ix, doc in enumerate(fact_spaceydocs):\n",
        "    tags = extract_token_tags(doc)\n",
        "    tags = pd.DataFrame(tags)\n",
        "    tags.columns = columns\n",
        "    fact_tagsdf.append(tags)\n",
        "\n",
        "fact_tagsdf = pd.concat(fact_tagsdf)"
      ]
    },
    {
      "cell_type": "code",
      "execution_count": 17,
      "metadata": {
        "colab": {
          "base_uri": "https://localhost:8080/",
          "height": 206
        },
        "id": "lyv3VSoduERr",
        "outputId": "bb2259ca-1071-4ab9-97ac-b9999dad839a"
      },
      "outputs": [
        {
          "output_type": "execute_result",
          "data": {
            "text/plain": [
              "      token   ner_tag pos_tag\n",
              "0     There              PRON\n",
              "1       are              VERB\n",
              "2       two  CARDINAL     NUM\n",
              "3     small               ADJ\n",
              "4  problems              NOUN"
            ],
            "text/html": [
              "\n",
              "  <div id=\"df-cc0c3a79-516a-454d-8d49-bce53fa89730\" class=\"colab-df-container\">\n",
              "    <div>\n",
              "<style scoped>\n",
              "    .dataframe tbody tr th:only-of-type {\n",
              "        vertical-align: middle;\n",
              "    }\n",
              "\n",
              "    .dataframe tbody tr th {\n",
              "        vertical-align: top;\n",
              "    }\n",
              "\n",
              "    .dataframe thead th {\n",
              "        text-align: right;\n",
              "    }\n",
              "</style>\n",
              "<table border=\"1\" class=\"dataframe\">\n",
              "  <thead>\n",
              "    <tr style=\"text-align: right;\">\n",
              "      <th></th>\n",
              "      <th>token</th>\n",
              "      <th>ner_tag</th>\n",
              "      <th>pos_tag</th>\n",
              "    </tr>\n",
              "  </thead>\n",
              "  <tbody>\n",
              "    <tr>\n",
              "      <th>0</th>\n",
              "      <td>There</td>\n",
              "      <td></td>\n",
              "      <td>PRON</td>\n",
              "    </tr>\n",
              "    <tr>\n",
              "      <th>1</th>\n",
              "      <td>are</td>\n",
              "      <td></td>\n",
              "      <td>VERB</td>\n",
              "    </tr>\n",
              "    <tr>\n",
              "      <th>2</th>\n",
              "      <td>two</td>\n",
              "      <td>CARDINAL</td>\n",
              "      <td>NUM</td>\n",
              "    </tr>\n",
              "    <tr>\n",
              "      <th>3</th>\n",
              "      <td>small</td>\n",
              "      <td></td>\n",
              "      <td>ADJ</td>\n",
              "    </tr>\n",
              "    <tr>\n",
              "      <th>4</th>\n",
              "      <td>problems</td>\n",
              "      <td></td>\n",
              "      <td>NOUN</td>\n",
              "    </tr>\n",
              "  </tbody>\n",
              "</table>\n",
              "</div>\n",
              "    <div class=\"colab-df-buttons\">\n",
              "      \n",
              "  <div class=\"colab-df-container\">\n",
              "    <button class=\"colab-df-convert\" onclick=\"convertToInteractive('df-cc0c3a79-516a-454d-8d49-bce53fa89730')\"\n",
              "            title=\"Convert this dataframe to an interactive table.\"\n",
              "            style=\"display:none;\">\n",
              "      \n",
              "  <svg xmlns=\"http://www.w3.org/2000/svg\" height=\"24px\" viewBox=\"0 -960 960 960\">\n",
              "    <path d=\"M120-120v-720h720v720H120Zm60-500h600v-160H180v160Zm220 220h160v-160H400v160Zm0 220h160v-160H400v160ZM180-400h160v-160H180v160Zm440 0h160v-160H620v160ZM180-180h160v-160H180v160Zm440 0h160v-160H620v160Z\"/>\n",
              "  </svg>\n",
              "    </button>\n",
              "    \n",
              "  <style>\n",
              "    .colab-df-container {\n",
              "      display:flex;\n",
              "      gap: 12px;\n",
              "    }\n",
              "\n",
              "    .colab-df-convert {\n",
              "      background-color: #E8F0FE;\n",
              "      border: none;\n",
              "      border-radius: 50%;\n",
              "      cursor: pointer;\n",
              "      display: none;\n",
              "      fill: #1967D2;\n",
              "      height: 32px;\n",
              "      padding: 0 0 0 0;\n",
              "      width: 32px;\n",
              "    }\n",
              "\n",
              "    .colab-df-convert:hover {\n",
              "      background-color: #E2EBFA;\n",
              "      box-shadow: 0px 1px 2px rgba(60, 64, 67, 0.3), 0px 1px 3px 1px rgba(60, 64, 67, 0.15);\n",
              "      fill: #174EA6;\n",
              "    }\n",
              "\n",
              "    .colab-df-buttons div {\n",
              "      margin-bottom: 4px;\n",
              "    }\n",
              "\n",
              "    [theme=dark] .colab-df-convert {\n",
              "      background-color: #3B4455;\n",
              "      fill: #D2E3FC;\n",
              "    }\n",
              "\n",
              "    [theme=dark] .colab-df-convert:hover {\n",
              "      background-color: #434B5C;\n",
              "      box-shadow: 0px 1px 3px 1px rgba(0, 0, 0, 0.15);\n",
              "      filter: drop-shadow(0px 1px 2px rgba(0, 0, 0, 0.3));\n",
              "      fill: #FFFFFF;\n",
              "    }\n",
              "  </style>\n",
              "\n",
              "    <script>\n",
              "      const buttonEl =\n",
              "        document.querySelector('#df-cc0c3a79-516a-454d-8d49-bce53fa89730 button.colab-df-convert');\n",
              "      buttonEl.style.display =\n",
              "        google.colab.kernel.accessAllowed ? 'block' : 'none';\n",
              "\n",
              "      async function convertToInteractive(key) {\n",
              "        const element = document.querySelector('#df-cc0c3a79-516a-454d-8d49-bce53fa89730');\n",
              "        const dataTable =\n",
              "          await google.colab.kernel.invokeFunction('convertToInteractive',\n",
              "                                                    [key], {});\n",
              "        if (!dataTable) return;\n",
              "\n",
              "        const docLinkHtml = 'Like what you see? Visit the ' +\n",
              "          '<a target=\"_blank\" href=https://colab.research.google.com/notebooks/data_table.ipynb>data table notebook</a>'\n",
              "          + ' to learn more about interactive tables.';\n",
              "        element.innerHTML = '';\n",
              "        dataTable['output_type'] = 'display_data';\n",
              "        await google.colab.output.renderOutput(dataTable, element);\n",
              "        const docLink = document.createElement('div');\n",
              "        docLink.innerHTML = docLinkHtml;\n",
              "        element.appendChild(docLink);\n",
              "      }\n",
              "    </script>\n",
              "  </div>\n",
              "  \n",
              "    </div>\n",
              "  </div>\n",
              "  "
            ]
          },
          "metadata": {},
          "execution_count": 17
        }
      ],
      "source": [
        "fake_tagsdf.head()"
      ]
    },
    {
      "cell_type": "code",
      "execution_count": 18,
      "metadata": {
        "colab": {
          "base_uri": "https://localhost:8080/",
          "height": 363
        },
        "id": "MGoTMB56uERs",
        "outputId": "4762aead-dd81-4f2e-e560-8e11bf8e10d3"
      },
      "outputs": [
        {
          "output_type": "execute_result",
          "data": {
            "text/plain": [
              "     token pos_tag  counts\n",
              "29       ,   PUNCT    1908\n",
              "7451   the     DET    1834\n",
              "41       .   PUNCT    1530\n",
              "5766    of     ADP     922\n",
              "2665   and   CCONJ     875\n",
              "2449     a     DET     805\n",
              "0            SPACE     795\n",
              "7528    to    PART     767\n",
              "4921    in     ADP     668\n",
              "5099    is     AUX     419"
            ],
            "text/html": [
              "\n",
              "  <div id=\"df-b8b68255-cdcd-4ab3-8946-6758261ae1aa\" class=\"colab-df-container\">\n",
              "    <div>\n",
              "<style scoped>\n",
              "    .dataframe tbody tr th:only-of-type {\n",
              "        vertical-align: middle;\n",
              "    }\n",
              "\n",
              "    .dataframe tbody tr th {\n",
              "        vertical-align: top;\n",
              "    }\n",
              "\n",
              "    .dataframe thead th {\n",
              "        text-align: right;\n",
              "    }\n",
              "</style>\n",
              "<table border=\"1\" class=\"dataframe\">\n",
              "  <thead>\n",
              "    <tr style=\"text-align: right;\">\n",
              "      <th></th>\n",
              "      <th>token</th>\n",
              "      <th>pos_tag</th>\n",
              "      <th>counts</th>\n",
              "    </tr>\n",
              "  </thead>\n",
              "  <tbody>\n",
              "    <tr>\n",
              "      <th>29</th>\n",
              "      <td>,</td>\n",
              "      <td>PUNCT</td>\n",
              "      <td>1908</td>\n",
              "    </tr>\n",
              "    <tr>\n",
              "      <th>7451</th>\n",
              "      <td>the</td>\n",
              "      <td>DET</td>\n",
              "      <td>1834</td>\n",
              "    </tr>\n",
              "    <tr>\n",
              "      <th>41</th>\n",
              "      <td>.</td>\n",
              "      <td>PUNCT</td>\n",
              "      <td>1530</td>\n",
              "    </tr>\n",
              "    <tr>\n",
              "      <th>5766</th>\n",
              "      <td>of</td>\n",
              "      <td>ADP</td>\n",
              "      <td>922</td>\n",
              "    </tr>\n",
              "    <tr>\n",
              "      <th>2665</th>\n",
              "      <td>and</td>\n",
              "      <td>CCONJ</td>\n",
              "      <td>875</td>\n",
              "    </tr>\n",
              "    <tr>\n",
              "      <th>2449</th>\n",
              "      <td>a</td>\n",
              "      <td>DET</td>\n",
              "      <td>805</td>\n",
              "    </tr>\n",
              "    <tr>\n",
              "      <th>0</th>\n",
              "      <td></td>\n",
              "      <td>SPACE</td>\n",
              "      <td>795</td>\n",
              "    </tr>\n",
              "    <tr>\n",
              "      <th>7528</th>\n",
              "      <td>to</td>\n",
              "      <td>PART</td>\n",
              "      <td>767</td>\n",
              "    </tr>\n",
              "    <tr>\n",
              "      <th>4921</th>\n",
              "      <td>in</td>\n",
              "      <td>ADP</td>\n",
              "      <td>668</td>\n",
              "    </tr>\n",
              "    <tr>\n",
              "      <th>5099</th>\n",
              "      <td>is</td>\n",
              "      <td>AUX</td>\n",
              "      <td>419</td>\n",
              "    </tr>\n",
              "  </tbody>\n",
              "</table>\n",
              "</div>\n",
              "    <div class=\"colab-df-buttons\">\n",
              "      \n",
              "  <div class=\"colab-df-container\">\n",
              "    <button class=\"colab-df-convert\" onclick=\"convertToInteractive('df-b8b68255-cdcd-4ab3-8946-6758261ae1aa')\"\n",
              "            title=\"Convert this dataframe to an interactive table.\"\n",
              "            style=\"display:none;\">\n",
              "      \n",
              "  <svg xmlns=\"http://www.w3.org/2000/svg\" height=\"24px\" viewBox=\"0 -960 960 960\">\n",
              "    <path d=\"M120-120v-720h720v720H120Zm60-500h600v-160H180v160Zm220 220h160v-160H400v160Zm0 220h160v-160H400v160ZM180-400h160v-160H180v160Zm440 0h160v-160H620v160ZM180-180h160v-160H180v160Zm440 0h160v-160H620v160Z\"/>\n",
              "  </svg>\n",
              "    </button>\n",
              "    \n",
              "  <style>\n",
              "    .colab-df-container {\n",
              "      display:flex;\n",
              "      gap: 12px;\n",
              "    }\n",
              "\n",
              "    .colab-df-convert {\n",
              "      background-color: #E8F0FE;\n",
              "      border: none;\n",
              "      border-radius: 50%;\n",
              "      cursor: pointer;\n",
              "      display: none;\n",
              "      fill: #1967D2;\n",
              "      height: 32px;\n",
              "      padding: 0 0 0 0;\n",
              "      width: 32px;\n",
              "    }\n",
              "\n",
              "    .colab-df-convert:hover {\n",
              "      background-color: #E2EBFA;\n",
              "      box-shadow: 0px 1px 2px rgba(60, 64, 67, 0.3), 0px 1px 3px 1px rgba(60, 64, 67, 0.15);\n",
              "      fill: #174EA6;\n",
              "    }\n",
              "\n",
              "    .colab-df-buttons div {\n",
              "      margin-bottom: 4px;\n",
              "    }\n",
              "\n",
              "    [theme=dark] .colab-df-convert {\n",
              "      background-color: #3B4455;\n",
              "      fill: #D2E3FC;\n",
              "    }\n",
              "\n",
              "    [theme=dark] .colab-df-convert:hover {\n",
              "      background-color: #434B5C;\n",
              "      box-shadow: 0px 1px 3px 1px rgba(0, 0, 0, 0.15);\n",
              "      filter: drop-shadow(0px 1px 2px rgba(0, 0, 0, 0.3));\n",
              "      fill: #FFFFFF;\n",
              "    }\n",
              "  </style>\n",
              "\n",
              "    <script>\n",
              "      const buttonEl =\n",
              "        document.querySelector('#df-b8b68255-cdcd-4ab3-8946-6758261ae1aa button.colab-df-convert');\n",
              "      buttonEl.style.display =\n",
              "        google.colab.kernel.accessAllowed ? 'block' : 'none';\n",
              "\n",
              "      async function convertToInteractive(key) {\n",
              "        const element = document.querySelector('#df-b8b68255-cdcd-4ab3-8946-6758261ae1aa');\n",
              "        const dataTable =\n",
              "          await google.colab.kernel.invokeFunction('convertToInteractive',\n",
              "                                                    [key], {});\n",
              "        if (!dataTable) return;\n",
              "\n",
              "        const docLinkHtml = 'Like what you see? Visit the ' +\n",
              "          '<a target=\"_blank\" href=https://colab.research.google.com/notebooks/data_table.ipynb>data table notebook</a>'\n",
              "          + ' to learn more about interactive tables.';\n",
              "        element.innerHTML = '';\n",
              "        dataTable['output_type'] = 'display_data';\n",
              "        await google.colab.output.renderOutput(dataTable, element);\n",
              "        const docLink = document.createElement('div');\n",
              "        docLink.innerHTML = docLinkHtml;\n",
              "        element.appendChild(docLink);\n",
              "      }\n",
              "    </script>\n",
              "  </div>\n",
              "  \n",
              "    </div>\n",
              "  </div>\n",
              "  "
            ]
          },
          "metadata": {},
          "execution_count": 18
        }
      ],
      "source": [
        "# token frequency count (fake)\n",
        "pos_counts_fake = fake_tagsdf.groupby(['token','pos_tag']).size().reset_index(name='counts').sort_values(by='counts', ascending=False)\n",
        "pos_counts_fake.head(10)"
      ]
    },
    {
      "cell_type": "code",
      "execution_count": 19,
      "metadata": {
        "colab": {
          "base_uri": "https://localhost:8080/",
          "height": 363
        },
        "id": "9cETcZ_PuERs",
        "outputId": "dba5f1bc-3be1-4237-836c-609b69b1c900"
      },
      "outputs": [
        {
          "output_type": "execute_result",
          "data": {
            "text/plain": [
              "     token pos_tag  counts\n",
              "6145   the     DET    1903\n",
              "14       ,   PUNCT    1698\n",
              "21       .   PUNCT    1382\n",
              "4716    of     ADP     884\n",
              "1898     a     DET     789\n",
              "2093   and   CCONJ     757\n",
              "4005    in     ADP     671\n",
              "6205    to    PART     660\n",
              "4743    on     ADP     482\n",
              "5567  said    VERB     451"
            ],
            "text/html": [
              "\n",
              "  <div id=\"df-2b61667f-dc18-4b2c-9486-752eef050cb9\" class=\"colab-df-container\">\n",
              "    <div>\n",
              "<style scoped>\n",
              "    .dataframe tbody tr th:only-of-type {\n",
              "        vertical-align: middle;\n",
              "    }\n",
              "\n",
              "    .dataframe tbody tr th {\n",
              "        vertical-align: top;\n",
              "    }\n",
              "\n",
              "    .dataframe thead th {\n",
              "        text-align: right;\n",
              "    }\n",
              "</style>\n",
              "<table border=\"1\" class=\"dataframe\">\n",
              "  <thead>\n",
              "    <tr style=\"text-align: right;\">\n",
              "      <th></th>\n",
              "      <th>token</th>\n",
              "      <th>pos_tag</th>\n",
              "      <th>counts</th>\n",
              "    </tr>\n",
              "  </thead>\n",
              "  <tbody>\n",
              "    <tr>\n",
              "      <th>6145</th>\n",
              "      <td>the</td>\n",
              "      <td>DET</td>\n",
              "      <td>1903</td>\n",
              "    </tr>\n",
              "    <tr>\n",
              "      <th>14</th>\n",
              "      <td>,</td>\n",
              "      <td>PUNCT</td>\n",
              "      <td>1698</td>\n",
              "    </tr>\n",
              "    <tr>\n",
              "      <th>21</th>\n",
              "      <td>.</td>\n",
              "      <td>PUNCT</td>\n",
              "      <td>1382</td>\n",
              "    </tr>\n",
              "    <tr>\n",
              "      <th>4716</th>\n",
              "      <td>of</td>\n",
              "      <td>ADP</td>\n",
              "      <td>884</td>\n",
              "    </tr>\n",
              "    <tr>\n",
              "      <th>1898</th>\n",
              "      <td>a</td>\n",
              "      <td>DET</td>\n",
              "      <td>789</td>\n",
              "    </tr>\n",
              "    <tr>\n",
              "      <th>2093</th>\n",
              "      <td>and</td>\n",
              "      <td>CCONJ</td>\n",
              "      <td>757</td>\n",
              "    </tr>\n",
              "    <tr>\n",
              "      <th>4005</th>\n",
              "      <td>in</td>\n",
              "      <td>ADP</td>\n",
              "      <td>671</td>\n",
              "    </tr>\n",
              "    <tr>\n",
              "      <th>6205</th>\n",
              "      <td>to</td>\n",
              "      <td>PART</td>\n",
              "      <td>660</td>\n",
              "    </tr>\n",
              "    <tr>\n",
              "      <th>4743</th>\n",
              "      <td>on</td>\n",
              "      <td>ADP</td>\n",
              "      <td>482</td>\n",
              "    </tr>\n",
              "    <tr>\n",
              "      <th>5567</th>\n",
              "      <td>said</td>\n",
              "      <td>VERB</td>\n",
              "      <td>451</td>\n",
              "    </tr>\n",
              "  </tbody>\n",
              "</table>\n",
              "</div>\n",
              "    <div class=\"colab-df-buttons\">\n",
              "      \n",
              "  <div class=\"colab-df-container\">\n",
              "    <button class=\"colab-df-convert\" onclick=\"convertToInteractive('df-2b61667f-dc18-4b2c-9486-752eef050cb9')\"\n",
              "            title=\"Convert this dataframe to an interactive table.\"\n",
              "            style=\"display:none;\">\n",
              "      \n",
              "  <svg xmlns=\"http://www.w3.org/2000/svg\" height=\"24px\" viewBox=\"0 -960 960 960\">\n",
              "    <path d=\"M120-120v-720h720v720H120Zm60-500h600v-160H180v160Zm220 220h160v-160H400v160Zm0 220h160v-160H400v160ZM180-400h160v-160H180v160Zm440 0h160v-160H620v160ZM180-180h160v-160H180v160Zm440 0h160v-160H620v160Z\"/>\n",
              "  </svg>\n",
              "    </button>\n",
              "    \n",
              "  <style>\n",
              "    .colab-df-container {\n",
              "      display:flex;\n",
              "      gap: 12px;\n",
              "    }\n",
              "\n",
              "    .colab-df-convert {\n",
              "      background-color: #E8F0FE;\n",
              "      border: none;\n",
              "      border-radius: 50%;\n",
              "      cursor: pointer;\n",
              "      display: none;\n",
              "      fill: #1967D2;\n",
              "      height: 32px;\n",
              "      padding: 0 0 0 0;\n",
              "      width: 32px;\n",
              "    }\n",
              "\n",
              "    .colab-df-convert:hover {\n",
              "      background-color: #E2EBFA;\n",
              "      box-shadow: 0px 1px 2px rgba(60, 64, 67, 0.3), 0px 1px 3px 1px rgba(60, 64, 67, 0.15);\n",
              "      fill: #174EA6;\n",
              "    }\n",
              "\n",
              "    .colab-df-buttons div {\n",
              "      margin-bottom: 4px;\n",
              "    }\n",
              "\n",
              "    [theme=dark] .colab-df-convert {\n",
              "      background-color: #3B4455;\n",
              "      fill: #D2E3FC;\n",
              "    }\n",
              "\n",
              "    [theme=dark] .colab-df-convert:hover {\n",
              "      background-color: #434B5C;\n",
              "      box-shadow: 0px 1px 3px 1px rgba(0, 0, 0, 0.15);\n",
              "      filter: drop-shadow(0px 1px 2px rgba(0, 0, 0, 0.3));\n",
              "      fill: #FFFFFF;\n",
              "    }\n",
              "  </style>\n",
              "\n",
              "    <script>\n",
              "      const buttonEl =\n",
              "        document.querySelector('#df-2b61667f-dc18-4b2c-9486-752eef050cb9 button.colab-df-convert');\n",
              "      buttonEl.style.display =\n",
              "        google.colab.kernel.accessAllowed ? 'block' : 'none';\n",
              "\n",
              "      async function convertToInteractive(key) {\n",
              "        const element = document.querySelector('#df-2b61667f-dc18-4b2c-9486-752eef050cb9');\n",
              "        const dataTable =\n",
              "          await google.colab.kernel.invokeFunction('convertToInteractive',\n",
              "                                                    [key], {});\n",
              "        if (!dataTable) return;\n",
              "\n",
              "        const docLinkHtml = 'Like what you see? Visit the ' +\n",
              "          '<a target=\"_blank\" href=https://colab.research.google.com/notebooks/data_table.ipynb>data table notebook</a>'\n",
              "          + ' to learn more about interactive tables.';\n",
              "        element.innerHTML = '';\n",
              "        dataTable['output_type'] = 'display_data';\n",
              "        await google.colab.output.renderOutput(dataTable, element);\n",
              "        const docLink = document.createElement('div');\n",
              "        docLink.innerHTML = docLinkHtml;\n",
              "        element.appendChild(docLink);\n",
              "      }\n",
              "    </script>\n",
              "  </div>\n",
              "  \n",
              "    </div>\n",
              "  </div>\n",
              "  "
            ]
          },
          "metadata": {},
          "execution_count": 19
        }
      ],
      "source": [
        "# token frequency count (fact)\n",
        "pos_counts_fact = fact_tagsdf.groupby(['token','pos_tag']).size().reset_index(name='counts').sort_values(by='counts', ascending=False)\n",
        "pos_counts_fact.head(10)"
      ]
    },
    {
      "cell_type": "code",
      "execution_count": 20,
      "metadata": {
        "colab": {
          "base_uri": "https://localhost:8080/",
          "height": 429
        },
        "id": "UoMagZ71uERs",
        "outputId": "8c43a4cf-1e78-4e56-e0f0-eaae905b9440"
      },
      "outputs": [
        {
          "output_type": "execute_result",
          "data": {
            "text/plain": [
              "pos_tag\n",
              "NOUN     2586\n",
              "VERB     1817\n",
              "PROPN    1672\n",
              "ADJ       882\n",
              "ADV       413\n",
              "NUM       221\n",
              "PRON       96\n",
              "ADP        89\n",
              "AUX        62\n",
              "SCONJ      51\n",
              "Name: token, dtype: int64"
            ],
            "text/html": [
              "<div>\n",
              "<style scoped>\n",
              "    .dataframe tbody tr th:only-of-type {\n",
              "        vertical-align: middle;\n",
              "    }\n",
              "\n",
              "    .dataframe tbody tr th {\n",
              "        vertical-align: top;\n",
              "    }\n",
              "\n",
              "    .dataframe thead th {\n",
              "        text-align: right;\n",
              "    }\n",
              "</style>\n",
              "<table border=\"1\" class=\"dataframe\">\n",
              "  <thead>\n",
              "    <tr style=\"text-align: right;\">\n",
              "      <th></th>\n",
              "      <th>token</th>\n",
              "    </tr>\n",
              "    <tr>\n",
              "      <th>pos_tag</th>\n",
              "      <th></th>\n",
              "    </tr>\n",
              "  </thead>\n",
              "  <tbody>\n",
              "    <tr>\n",
              "      <th>NOUN</th>\n",
              "      <td>2586</td>\n",
              "    </tr>\n",
              "    <tr>\n",
              "      <th>VERB</th>\n",
              "      <td>1817</td>\n",
              "    </tr>\n",
              "    <tr>\n",
              "      <th>PROPN</th>\n",
              "      <td>1672</td>\n",
              "    </tr>\n",
              "    <tr>\n",
              "      <th>ADJ</th>\n",
              "      <td>882</td>\n",
              "    </tr>\n",
              "    <tr>\n",
              "      <th>ADV</th>\n",
              "      <td>413</td>\n",
              "    </tr>\n",
              "    <tr>\n",
              "      <th>NUM</th>\n",
              "      <td>221</td>\n",
              "    </tr>\n",
              "    <tr>\n",
              "      <th>PRON</th>\n",
              "      <td>96</td>\n",
              "    </tr>\n",
              "    <tr>\n",
              "      <th>ADP</th>\n",
              "      <td>89</td>\n",
              "    </tr>\n",
              "    <tr>\n",
              "      <th>AUX</th>\n",
              "      <td>62</td>\n",
              "    </tr>\n",
              "    <tr>\n",
              "      <th>SCONJ</th>\n",
              "      <td>51</td>\n",
              "    </tr>\n",
              "  </tbody>\n",
              "</table>\n",
              "</div><br><label><b>dtype:</b> int64</label>"
            ]
          },
          "metadata": {},
          "execution_count": 20
        }
      ],
      "source": [
        "# frequencies of pos tags\n",
        "pos_counts_fake.groupby(['pos_tag'])['token'].count().sort_values(ascending=False).head(10)"
      ]
    },
    {
      "cell_type": "code",
      "execution_count": 21,
      "metadata": {
        "colab": {
          "base_uri": "https://localhost:8080/",
          "height": 429
        },
        "id": "rOSAyIMbuERt",
        "outputId": "c3da5069-e3e3-4b4b-ae28-801114d2f83d"
      },
      "outputs": [
        {
          "output_type": "execute_result",
          "data": {
            "text/plain": [
              "pos_tag\n",
              "NOUN     2179\n",
              "VERB     1539\n",
              "PROPN    1379\n",
              "ADJ       747\n",
              "ADV       263\n",
              "NUM       205\n",
              "PRON       79\n",
              "ADP        70\n",
              "AUX        43\n",
              "SCONJ      42\n",
              "Name: token, dtype: int64"
            ],
            "text/html": [
              "<div>\n",
              "<style scoped>\n",
              "    .dataframe tbody tr th:only-of-type {\n",
              "        vertical-align: middle;\n",
              "    }\n",
              "\n",
              "    .dataframe tbody tr th {\n",
              "        vertical-align: top;\n",
              "    }\n",
              "\n",
              "    .dataframe thead th {\n",
              "        text-align: right;\n",
              "    }\n",
              "</style>\n",
              "<table border=\"1\" class=\"dataframe\">\n",
              "  <thead>\n",
              "    <tr style=\"text-align: right;\">\n",
              "      <th></th>\n",
              "      <th>token</th>\n",
              "    </tr>\n",
              "    <tr>\n",
              "      <th>pos_tag</th>\n",
              "      <th></th>\n",
              "    </tr>\n",
              "  </thead>\n",
              "  <tbody>\n",
              "    <tr>\n",
              "      <th>NOUN</th>\n",
              "      <td>2179</td>\n",
              "    </tr>\n",
              "    <tr>\n",
              "      <th>VERB</th>\n",
              "      <td>1539</td>\n",
              "    </tr>\n",
              "    <tr>\n",
              "      <th>PROPN</th>\n",
              "      <td>1379</td>\n",
              "    </tr>\n",
              "    <tr>\n",
              "      <th>ADJ</th>\n",
              "      <td>747</td>\n",
              "    </tr>\n",
              "    <tr>\n",
              "      <th>ADV</th>\n",
              "      <td>263</td>\n",
              "    </tr>\n",
              "    <tr>\n",
              "      <th>NUM</th>\n",
              "      <td>205</td>\n",
              "    </tr>\n",
              "    <tr>\n",
              "      <th>PRON</th>\n",
              "      <td>79</td>\n",
              "    </tr>\n",
              "    <tr>\n",
              "      <th>ADP</th>\n",
              "      <td>70</td>\n",
              "    </tr>\n",
              "    <tr>\n",
              "      <th>AUX</th>\n",
              "      <td>43</td>\n",
              "    </tr>\n",
              "    <tr>\n",
              "      <th>SCONJ</th>\n",
              "      <td>42</td>\n",
              "    </tr>\n",
              "  </tbody>\n",
              "</table>\n",
              "</div><br><label><b>dtype:</b> int64</label>"
            ]
          },
          "metadata": {},
          "execution_count": 21
        }
      ],
      "source": [
        "pos_counts_fact.groupby(['pos_tag'])['token'].count().sort_values(ascending=False).head(10)"
      ]
    },
    {
      "cell_type": "code",
      "execution_count": 22,
      "metadata": {
        "colab": {
          "base_uri": "https://localhost:8080/",
          "height": 519
        },
        "id": "AJHzk-jKuERt",
        "outputId": "354994b6-b5f1-4efd-a1a6-ce27d59ea9cd"
      },
      "outputs": [
        {
          "output_type": "execute_result",
          "data": {
            "text/plain": [
              "           token pos_tag  counts\n",
              "5981      people    NOUN      77\n",
              "7349           t    NOUN      65\n",
              "6216   president    NOUN      58\n",
              "7960       women    NOUN      55\n",
              "7516        time    NOUN      52\n",
              "3138    campaign    NOUN      44\n",
              "8011        year    NOUN      44\n",
              "4581  government    NOUN      41\n",
              "5213         law    NOUN      40\n",
              "8013       years    NOUN      40\n",
              "7165       state    NOUN      38\n",
              "4012    election    NOUN      37\n",
              "3643         day    NOUN      35\n",
              "5482       media    NOUN      35\n",
              "3538     country    NOUN      33"
            ],
            "text/html": [
              "\n",
              "  <div id=\"df-d771edf0-6a42-4463-a784-c7eb47d7dc12\" class=\"colab-df-container\">\n",
              "    <div>\n",
              "<style scoped>\n",
              "    .dataframe tbody tr th:only-of-type {\n",
              "        vertical-align: middle;\n",
              "    }\n",
              "\n",
              "    .dataframe tbody tr th {\n",
              "        vertical-align: top;\n",
              "    }\n",
              "\n",
              "    .dataframe thead th {\n",
              "        text-align: right;\n",
              "    }\n",
              "</style>\n",
              "<table border=\"1\" class=\"dataframe\">\n",
              "  <thead>\n",
              "    <tr style=\"text-align: right;\">\n",
              "      <th></th>\n",
              "      <th>token</th>\n",
              "      <th>pos_tag</th>\n",
              "      <th>counts</th>\n",
              "    </tr>\n",
              "  </thead>\n",
              "  <tbody>\n",
              "    <tr>\n",
              "      <th>5981</th>\n",
              "      <td>people</td>\n",
              "      <td>NOUN</td>\n",
              "      <td>77</td>\n",
              "    </tr>\n",
              "    <tr>\n",
              "      <th>7349</th>\n",
              "      <td>t</td>\n",
              "      <td>NOUN</td>\n",
              "      <td>65</td>\n",
              "    </tr>\n",
              "    <tr>\n",
              "      <th>6216</th>\n",
              "      <td>president</td>\n",
              "      <td>NOUN</td>\n",
              "      <td>58</td>\n",
              "    </tr>\n",
              "    <tr>\n",
              "      <th>7960</th>\n",
              "      <td>women</td>\n",
              "      <td>NOUN</td>\n",
              "      <td>55</td>\n",
              "    </tr>\n",
              "    <tr>\n",
              "      <th>7516</th>\n",
              "      <td>time</td>\n",
              "      <td>NOUN</td>\n",
              "      <td>52</td>\n",
              "    </tr>\n",
              "    <tr>\n",
              "      <th>3138</th>\n",
              "      <td>campaign</td>\n",
              "      <td>NOUN</td>\n",
              "      <td>44</td>\n",
              "    </tr>\n",
              "    <tr>\n",
              "      <th>8011</th>\n",
              "      <td>year</td>\n",
              "      <td>NOUN</td>\n",
              "      <td>44</td>\n",
              "    </tr>\n",
              "    <tr>\n",
              "      <th>4581</th>\n",
              "      <td>government</td>\n",
              "      <td>NOUN</td>\n",
              "      <td>41</td>\n",
              "    </tr>\n",
              "    <tr>\n",
              "      <th>5213</th>\n",
              "      <td>law</td>\n",
              "      <td>NOUN</td>\n",
              "      <td>40</td>\n",
              "    </tr>\n",
              "    <tr>\n",
              "      <th>8013</th>\n",
              "      <td>years</td>\n",
              "      <td>NOUN</td>\n",
              "      <td>40</td>\n",
              "    </tr>\n",
              "    <tr>\n",
              "      <th>7165</th>\n",
              "      <td>state</td>\n",
              "      <td>NOUN</td>\n",
              "      <td>38</td>\n",
              "    </tr>\n",
              "    <tr>\n",
              "      <th>4012</th>\n",
              "      <td>election</td>\n",
              "      <td>NOUN</td>\n",
              "      <td>37</td>\n",
              "    </tr>\n",
              "    <tr>\n",
              "      <th>3643</th>\n",
              "      <td>day</td>\n",
              "      <td>NOUN</td>\n",
              "      <td>35</td>\n",
              "    </tr>\n",
              "    <tr>\n",
              "      <th>5482</th>\n",
              "      <td>media</td>\n",
              "      <td>NOUN</td>\n",
              "      <td>35</td>\n",
              "    </tr>\n",
              "    <tr>\n",
              "      <th>3538</th>\n",
              "      <td>country</td>\n",
              "      <td>NOUN</td>\n",
              "      <td>33</td>\n",
              "    </tr>\n",
              "  </tbody>\n",
              "</table>\n",
              "</div>\n",
              "    <div class=\"colab-df-buttons\">\n",
              "      \n",
              "  <div class=\"colab-df-container\">\n",
              "    <button class=\"colab-df-convert\" onclick=\"convertToInteractive('df-d771edf0-6a42-4463-a784-c7eb47d7dc12')\"\n",
              "            title=\"Convert this dataframe to an interactive table.\"\n",
              "            style=\"display:none;\">\n",
              "      \n",
              "  <svg xmlns=\"http://www.w3.org/2000/svg\" height=\"24px\" viewBox=\"0 -960 960 960\">\n",
              "    <path d=\"M120-120v-720h720v720H120Zm60-500h600v-160H180v160Zm220 220h160v-160H400v160Zm0 220h160v-160H400v160ZM180-400h160v-160H180v160Zm440 0h160v-160H620v160ZM180-180h160v-160H180v160Zm440 0h160v-160H620v160Z\"/>\n",
              "  </svg>\n",
              "    </button>\n",
              "    \n",
              "  <style>\n",
              "    .colab-df-container {\n",
              "      display:flex;\n",
              "      gap: 12px;\n",
              "    }\n",
              "\n",
              "    .colab-df-convert {\n",
              "      background-color: #E8F0FE;\n",
              "      border: none;\n",
              "      border-radius: 50%;\n",
              "      cursor: pointer;\n",
              "      display: none;\n",
              "      fill: #1967D2;\n",
              "      height: 32px;\n",
              "      padding: 0 0 0 0;\n",
              "      width: 32px;\n",
              "    }\n",
              "\n",
              "    .colab-df-convert:hover {\n",
              "      background-color: #E2EBFA;\n",
              "      box-shadow: 0px 1px 2px rgba(60, 64, 67, 0.3), 0px 1px 3px 1px rgba(60, 64, 67, 0.15);\n",
              "      fill: #174EA6;\n",
              "    }\n",
              "\n",
              "    .colab-df-buttons div {\n",
              "      margin-bottom: 4px;\n",
              "    }\n",
              "\n",
              "    [theme=dark] .colab-df-convert {\n",
              "      background-color: #3B4455;\n",
              "      fill: #D2E3FC;\n",
              "    }\n",
              "\n",
              "    [theme=dark] .colab-df-convert:hover {\n",
              "      background-color: #434B5C;\n",
              "      box-shadow: 0px 1px 3px 1px rgba(0, 0, 0, 0.15);\n",
              "      filter: drop-shadow(0px 1px 2px rgba(0, 0, 0, 0.3));\n",
              "      fill: #FFFFFF;\n",
              "    }\n",
              "  </style>\n",
              "\n",
              "    <script>\n",
              "      const buttonEl =\n",
              "        document.querySelector('#df-d771edf0-6a42-4463-a784-c7eb47d7dc12 button.colab-df-convert');\n",
              "      buttonEl.style.display =\n",
              "        google.colab.kernel.accessAllowed ? 'block' : 'none';\n",
              "\n",
              "      async function convertToInteractive(key) {\n",
              "        const element = document.querySelector('#df-d771edf0-6a42-4463-a784-c7eb47d7dc12');\n",
              "        const dataTable =\n",
              "          await google.colab.kernel.invokeFunction('convertToInteractive',\n",
              "                                                    [key], {});\n",
              "        if (!dataTable) return;\n",
              "\n",
              "        const docLinkHtml = 'Like what you see? Visit the ' +\n",
              "          '<a target=\"_blank\" href=https://colab.research.google.com/notebooks/data_table.ipynb>data table notebook</a>'\n",
              "          + ' to learn more about interactive tables.';\n",
              "        element.innerHTML = '';\n",
              "        dataTable['output_type'] = 'display_data';\n",
              "        await google.colab.output.renderOutput(dataTable, element);\n",
              "        const docLink = document.createElement('div');\n",
              "        docLink.innerHTML = docLinkHtml;\n",
              "        element.appendChild(docLink);\n",
              "      }\n",
              "    </script>\n",
              "  </div>\n",
              "  \n",
              "    </div>\n",
              "  </div>\n",
              "  "
            ]
          },
          "metadata": {},
          "execution_count": 22
        }
      ],
      "source": [
        "# dive into diferences in nouns\n",
        "pos_counts_fake[pos_counts_fake.pos_tag == \"NOUN\"][0:15]"
      ]
    },
    {
      "cell_type": "code",
      "execution_count": 23,
      "metadata": {
        "colab": {
          "base_uri": "https://localhost:8080/",
          "height": 519
        },
        "id": "4IEQPsO-uERt",
        "outputId": "8b6cd056-9fa0-40ae-970a-c5f205622f38"
      },
      "outputs": [
        {
          "output_type": "execute_result",
          "data": {
            "text/plain": [
              "               token pos_tag  counts\n",
              "3738      government    NOUN      71\n",
              "6618            year    NOUN      64\n",
              "5901           state    NOUN      57\n",
              "2360            bill    NOUN      55\n",
              "1975  administration    NOUN      51\n",
              "5066       president    NOUN      49\n",
              "3277        election    NOUN      48\n",
              "4919          people    NOUN      45\n",
              "4786           order    NOUN      45\n",
              "4259             law    NOUN      42\n",
              "2497        campaign    NOUN      42\n",
              "6095             tax    NOUN      39\n",
              "5396       reporters    NOUN      38\n",
              "5905       statement    NOUN      37\n",
              "2873           court    NOUN      37"
            ],
            "text/html": [
              "\n",
              "  <div id=\"df-7327412b-ab6d-4713-9472-762a1e2f3828\" class=\"colab-df-container\">\n",
              "    <div>\n",
              "<style scoped>\n",
              "    .dataframe tbody tr th:only-of-type {\n",
              "        vertical-align: middle;\n",
              "    }\n",
              "\n",
              "    .dataframe tbody tr th {\n",
              "        vertical-align: top;\n",
              "    }\n",
              "\n",
              "    .dataframe thead th {\n",
              "        text-align: right;\n",
              "    }\n",
              "</style>\n",
              "<table border=\"1\" class=\"dataframe\">\n",
              "  <thead>\n",
              "    <tr style=\"text-align: right;\">\n",
              "      <th></th>\n",
              "      <th>token</th>\n",
              "      <th>pos_tag</th>\n",
              "      <th>counts</th>\n",
              "    </tr>\n",
              "  </thead>\n",
              "  <tbody>\n",
              "    <tr>\n",
              "      <th>3738</th>\n",
              "      <td>government</td>\n",
              "      <td>NOUN</td>\n",
              "      <td>71</td>\n",
              "    </tr>\n",
              "    <tr>\n",
              "      <th>6618</th>\n",
              "      <td>year</td>\n",
              "      <td>NOUN</td>\n",
              "      <td>64</td>\n",
              "    </tr>\n",
              "    <tr>\n",
              "      <th>5901</th>\n",
              "      <td>state</td>\n",
              "      <td>NOUN</td>\n",
              "      <td>57</td>\n",
              "    </tr>\n",
              "    <tr>\n",
              "      <th>2360</th>\n",
              "      <td>bill</td>\n",
              "      <td>NOUN</td>\n",
              "      <td>55</td>\n",
              "    </tr>\n",
              "    <tr>\n",
              "      <th>1975</th>\n",
              "      <td>administration</td>\n",
              "      <td>NOUN</td>\n",
              "      <td>51</td>\n",
              "    </tr>\n",
              "    <tr>\n",
              "      <th>5066</th>\n",
              "      <td>president</td>\n",
              "      <td>NOUN</td>\n",
              "      <td>49</td>\n",
              "    </tr>\n",
              "    <tr>\n",
              "      <th>3277</th>\n",
              "      <td>election</td>\n",
              "      <td>NOUN</td>\n",
              "      <td>48</td>\n",
              "    </tr>\n",
              "    <tr>\n",
              "      <th>4919</th>\n",
              "      <td>people</td>\n",
              "      <td>NOUN</td>\n",
              "      <td>45</td>\n",
              "    </tr>\n",
              "    <tr>\n",
              "      <th>4786</th>\n",
              "      <td>order</td>\n",
              "      <td>NOUN</td>\n",
              "      <td>45</td>\n",
              "    </tr>\n",
              "    <tr>\n",
              "      <th>4259</th>\n",
              "      <td>law</td>\n",
              "      <td>NOUN</td>\n",
              "      <td>42</td>\n",
              "    </tr>\n",
              "    <tr>\n",
              "      <th>2497</th>\n",
              "      <td>campaign</td>\n",
              "      <td>NOUN</td>\n",
              "      <td>42</td>\n",
              "    </tr>\n",
              "    <tr>\n",
              "      <th>6095</th>\n",
              "      <td>tax</td>\n",
              "      <td>NOUN</td>\n",
              "      <td>39</td>\n",
              "    </tr>\n",
              "    <tr>\n",
              "      <th>5396</th>\n",
              "      <td>reporters</td>\n",
              "      <td>NOUN</td>\n",
              "      <td>38</td>\n",
              "    </tr>\n",
              "    <tr>\n",
              "      <th>5905</th>\n",
              "      <td>statement</td>\n",
              "      <td>NOUN</td>\n",
              "      <td>37</td>\n",
              "    </tr>\n",
              "    <tr>\n",
              "      <th>2873</th>\n",
              "      <td>court</td>\n",
              "      <td>NOUN</td>\n",
              "      <td>37</td>\n",
              "    </tr>\n",
              "  </tbody>\n",
              "</table>\n",
              "</div>\n",
              "    <div class=\"colab-df-buttons\">\n",
              "      \n",
              "  <div class=\"colab-df-container\">\n",
              "    <button class=\"colab-df-convert\" onclick=\"convertToInteractive('df-7327412b-ab6d-4713-9472-762a1e2f3828')\"\n",
              "            title=\"Convert this dataframe to an interactive table.\"\n",
              "            style=\"display:none;\">\n",
              "      \n",
              "  <svg xmlns=\"http://www.w3.org/2000/svg\" height=\"24px\" viewBox=\"0 -960 960 960\">\n",
              "    <path d=\"M120-120v-720h720v720H120Zm60-500h600v-160H180v160Zm220 220h160v-160H400v160Zm0 220h160v-160H400v160ZM180-400h160v-160H180v160Zm440 0h160v-160H620v160ZM180-180h160v-160H180v160Zm440 0h160v-160H620v160Z\"/>\n",
              "  </svg>\n",
              "    </button>\n",
              "    \n",
              "  <style>\n",
              "    .colab-df-container {\n",
              "      display:flex;\n",
              "      gap: 12px;\n",
              "    }\n",
              "\n",
              "    .colab-df-convert {\n",
              "      background-color: #E8F0FE;\n",
              "      border: none;\n",
              "      border-radius: 50%;\n",
              "      cursor: pointer;\n",
              "      display: none;\n",
              "      fill: #1967D2;\n",
              "      height: 32px;\n",
              "      padding: 0 0 0 0;\n",
              "      width: 32px;\n",
              "    }\n",
              "\n",
              "    .colab-df-convert:hover {\n",
              "      background-color: #E2EBFA;\n",
              "      box-shadow: 0px 1px 2px rgba(60, 64, 67, 0.3), 0px 1px 3px 1px rgba(60, 64, 67, 0.15);\n",
              "      fill: #174EA6;\n",
              "    }\n",
              "\n",
              "    .colab-df-buttons div {\n",
              "      margin-bottom: 4px;\n",
              "    }\n",
              "\n",
              "    [theme=dark] .colab-df-convert {\n",
              "      background-color: #3B4455;\n",
              "      fill: #D2E3FC;\n",
              "    }\n",
              "\n",
              "    [theme=dark] .colab-df-convert:hover {\n",
              "      background-color: #434B5C;\n",
              "      box-shadow: 0px 1px 3px 1px rgba(0, 0, 0, 0.15);\n",
              "      filter: drop-shadow(0px 1px 2px rgba(0, 0, 0, 0.3));\n",
              "      fill: #FFFFFF;\n",
              "    }\n",
              "  </style>\n",
              "\n",
              "    <script>\n",
              "      const buttonEl =\n",
              "        document.querySelector('#df-7327412b-ab6d-4713-9472-762a1e2f3828 button.colab-df-convert');\n",
              "      buttonEl.style.display =\n",
              "        google.colab.kernel.accessAllowed ? 'block' : 'none';\n",
              "\n",
              "      async function convertToInteractive(key) {\n",
              "        const element = document.querySelector('#df-7327412b-ab6d-4713-9472-762a1e2f3828');\n",
              "        const dataTable =\n",
              "          await google.colab.kernel.invokeFunction('convertToInteractive',\n",
              "                                                    [key], {});\n",
              "        if (!dataTable) return;\n",
              "\n",
              "        const docLinkHtml = 'Like what you see? Visit the ' +\n",
              "          '<a target=\"_blank\" href=https://colab.research.google.com/notebooks/data_table.ipynb>data table notebook</a>'\n",
              "          + ' to learn more about interactive tables.';\n",
              "        element.innerHTML = '';\n",
              "        dataTable['output_type'] = 'display_data';\n",
              "        await google.colab.output.renderOutput(dataTable, element);\n",
              "        const docLink = document.createElement('div');\n",
              "        docLink.innerHTML = docLinkHtml;\n",
              "        element.appendChild(docLink);\n",
              "      }\n",
              "    </script>\n",
              "  </div>\n",
              "  \n",
              "    </div>\n",
              "  </div>\n",
              "  "
            ]
          },
          "metadata": {},
          "execution_count": 23
        }
      ],
      "source": [
        "pos_counts_fact[pos_counts_fact.pos_tag == \"NOUN\"][0:15]"
      ]
    },
    {
      "cell_type": "markdown",
      "metadata": {
        "id": "_0yfOTdcuERu"
      },
      "source": [
        "## Named Entities"
      ]
    },
    {
      "cell_type": "code",
      "execution_count": 24,
      "metadata": {
        "id": "S3cXFVe_uERu"
      },
      "outputs": [],
      "source": [
        "# top entities in fake news\n",
        "top_entities_fake = fake_tagsdf[fake_tagsdf['ner_tag'] != \"\"] \\\n",
        "                    .groupby(['token','ner_tag']).size().reset_index(name='counts') \\\n",
        "                    .sort_values(by='counts', ascending=False)"
      ]
    },
    {
      "cell_type": "code",
      "execution_count": 25,
      "metadata": {
        "id": "qhnWga9quERu"
      },
      "outputs": [],
      "source": [
        "# top entities in fact news\n",
        "top_entities_fact = fact_tagsdf[fact_tagsdf['ner_tag'] != \"\"] \\\n",
        "                    .groupby(['token','ner_tag']).size().reset_index(name='counts') \\\n",
        "                    .sort_values(by='counts', ascending=False)"
      ]
    },
    {
      "cell_type": "code",
      "execution_count": 26,
      "metadata": {
        "id": "g-4WsbuYuERu"
      },
      "outputs": [],
      "source": [
        "# create custom palette to ensure plots are consistent\n",
        "ner_palette = {\n",
        "    'ORG': sns.color_palette(\"Set2\").as_hex()[0],\n",
        "    'GPE': sns.color_palette(\"Set2\").as_hex()[1],\n",
        "    'NORP': sns.color_palette(\"Set2\").as_hex()[2],\n",
        "    'PERSON': sns.color_palette(\"Set2\").as_hex()[3],\n",
        "    'DATE': sns.color_palette(\"Set2\").as_hex()[4],\n",
        "    'CARDINAL': sns.color_palette(\"Set2\").as_hex()[5],\n",
        "    'PERCENT': sns.color_palette(\"Set2\").as_hex()[6]\n",
        "}"
      ]
    },
    {
      "cell_type": "code",
      "execution_count": 27,
      "metadata": {
        "colab": {
          "base_uri": "https://localhost:8080/",
          "height": 735
        },
        "id": "ge68gVkUuERv",
        "outputId": "c72cb6d3-eb7c-42fe-f456-451abe860c26"
      },
      "outputs": [
        {
          "output_type": "execute_result",
          "data": {
            "text/plain": [
              "[Text(0.5, 1.0, 'Most Common Entities in Fake News')]"
            ]
          },
          "metadata": {},
          "execution_count": 27
        },
        {
          "output_type": "display_data",
          "data": {
            "text/plain": [
              "<Figure size 1200x800 with 1 Axes>"
            ],
            "image/png": "[encoded data removed]"
          },
          "metadata": {}
        }
      ],
      "source": [
        "sns.barplot(\n",
        "    x = 'counts',\n",
        "    y = 'token',\n",
        "    hue = 'ner_tag',\n",
        "    palette = ner_palette,\n",
        "    data = top_entities_fake[0:10],\n",
        "    orient = 'h',\n",
        "    dodge=False\n",
        ") \\\n",
        ".set(title='Most Common Entities in Fake News')"
      ]
    },
    {
      "cell_type": "code",
      "execution_count": 28,
      "metadata": {
        "colab": {
          "base_uri": "https://localhost:8080/",
          "height": 735
        },
        "id": "vH39idj6uERv",
        "outputId": "0b43321d-7dc7-4e62-d67d-a903e540ed47"
      },
      "outputs": [
        {
          "output_type": "execute_result",
          "data": {
            "text/plain": [
              "[Text(0.5, 1.0, 'Most Common Entities in Factual News')]"
            ]
          },
          "metadata": {},
          "execution_count": 28
        },
        {
          "output_type": "display_data",
          "data": {
            "text/plain": [
              "<Figure size 1200x800 with 1 Axes>"
            ],
            "image/png": "[encoded data removed]"
          },
          "metadata": {}
        }
      ],
      "source": [
        "sns.barplot(\n",
        "    x = 'counts',\n",
        "    y = 'token',\n",
        "    hue = 'ner_tag',\n",
        "    palette = ner_palette,\n",
        "    data = top_entities_fact[0:10],\n",
        "    orient = 'h',\n",
        "    dodge=False\n",
        ") \\\n",
        ".set(title='Most Common Entities in Factual News')"
      ]
    },
    {
      "cell_type": "markdown",
      "metadata": {
        "id": "L1TSu2I3uERv"
      },
      "source": [
        "## Text Pre-processing"
      ]
    },
    {
      "cell_type": "code",
      "execution_count": 29,
      "metadata": {
        "id": "KAqRtvCWuERw"
      },
      "outputs": [],
      "source": [
        "# a lot of the factual news has a location tag at the beginning of the article, let's use regex to remove this\n",
        "data['text_clean'] = data.apply(lambda x: re.sub(r\"^[^-]*-\\s*\", \"\", x['text']), axis=1)"
      ]
    },
    {
      "cell_type": "code",
      "execution_count": 30,
      "metadata": {
        "id": "NnegEHJZuERw"
      },
      "outputs": [],
      "source": [
        "# lowercase\n",
        "data['text_clean'] = data['text_clean'].str.lower()"
      ]
    },
    {
      "cell_type": "code",
      "execution_count": 31,
      "metadata": {
        "id": "bTdibai3uERw"
      },
      "outputs": [],
      "source": [
        "# remove punctuation\n",
        "data['text_clean'] = data.apply(lambda x: re.sub(r\"([^\\w\\s])\", \"\", x['text_clean']), axis=1)"
      ]
    },
    {
      "cell_type": "code",
      "execution_count": 34,
      "metadata": {
        "colab": {
          "base_uri": "https://localhost:8080/"
        },
        "id": "UO950O4auERx",
        "outputId": "aa989f48-8741-41ee-a23d-81f6ba2bf5d6"
      },
      "outputs": [
        {
          "output_type": "stream",
          "name": "stdout",
          "text": [
            "['a', 'about', 'above', 'after', 'again', 'against', 'ain', 'all', 'am', 'an', 'and', 'any', 'are', 'aren', \"aren't\", 'as', 'at', 'be', 'because', 'been', 'before', 'being', 'below', 'between', 'both', 'but', 'by', 'can', 'couldn', \"couldn't\", 'd', 'did', 'didn', \"didn't\", 'do', 'does', 'doesn', \"doesn't\", 'doing', 'don', \"don't\", 'down', 'during', 'each', 'few', 'for', 'from', 'further', 'had', 'hadn', \"hadn't\", 'has', 'hasn', \"hasn't\", 'have', 'haven', \"haven't\", 'having', 'he', \"he'd\", \"he'll\", 'her', 'here', 'hers', 'herself', \"he's\", 'him', 'himself', 'his', 'how', 'i', \"i'd\", 'if', \"i'll\", \"i'm\", 'in', 'into', 'is', 'isn', \"isn't\", 'it', \"it'd\", \"it'll\", \"it's\", 'its', 'itself', \"i've\", 'just', 'll', 'm', 'ma', 'me', 'mightn', \"mightn't\", 'more', 'most', 'mustn', \"mustn't\", 'my', 'myself', 'needn', \"needn't\", 'no', 'nor', 'not', 'now', 'o', 'of', 'off', 'on', 'once', 'only', 'or', 'other', 'our', 'ours', 'ourselves', 'out', 'over', 'own', 're', 's', 'same', 'shan', \"shan't\", 'she', \"she'd\", \"she'll\", \"she's\", 'should', 'shouldn', \"shouldn't\", \"should've\", 'so', 'some', 'such', 't', 'than', 'that', \"that'll\", 'the', 'their', 'theirs', 'them', 'themselves', 'then', 'there', 'these', 'they', \"they'd\", \"they'll\", \"they're\", \"they've\", 'this', 'those', 'through', 'to', 'too', 'under', 'until', 'up', 've', 'very', 'was', 'wasn', \"wasn't\", 'we', \"we'd\", \"we'll\", \"we're\", 'were', 'weren', \"weren't\", \"we've\", 'what', 'when', 'where', 'which', 'while', 'who', 'whom', 'why', 'will', 'with', 'won', \"won't\", 'wouldn', \"wouldn't\", 'y', 'you', \"you'd\", \"you'll\", 'your', \"you're\", 'yours', 'yourself', 'yourselves', \"you've\"]\n"
          ]
        }
      ],
      "source": [
        "# stop words\n",
        "en_stopwords = stopwords.words('english')\n",
        "print(en_stopwords) # check this against our most frequent n-grams"
      ]
    },
    {
      "cell_type": "code",
      "execution_count": 35,
      "metadata": {
        "id": "qQiLi5x4uERx"
      },
      "outputs": [],
      "source": [
        "data['text_clean'] = data['text_clean'].apply(lambda x: ' '.join([word for word in x.split() if word not in (en_stopwords)]))"
      ]
    },
    {
      "cell_type": "code",
      "source": [
        "from nltk.tokenize import word_tokenize\n",
        "\n",
        "data['text_clean'] = data.apply(lambda x: word_tokenize(\" \".join(x['text_clean'])), axis=1)\n"
      ],
      "metadata": {
        "id": "9xYDQSAR0cZE"
      },
      "execution_count": 48,
      "outputs": []
    },
    {
      "cell_type": "code",
      "source": [
        "nltk.download('wordnet')"
      ],
      "metadata": {
        "colab": {
          "base_uri": "https://localhost:8080/"
        },
        "id": "qxUhdpLX0hhy",
        "outputId": "67b968b6-81e5-4df5-bb9b-4b584e287814"
      },
      "execution_count": 50,
      "outputs": [
        {
          "output_type": "stream",
          "name": "stderr",
          "text": [
            "[nltk_data] Downloading package wordnet to /root/nltk_data...\n"
          ]
        },
        {
          "output_type": "execute_result",
          "data": {
            "text/plain": [
              "True"
            ]
          },
          "metadata": {},
          "execution_count": 50
        }
      ]
    },
    {
      "cell_type": "code",
      "execution_count": 51,
      "metadata": {
        "id": "ppHSmiNuuERy"
      },
      "outputs": [],
      "source": [
        "# lemmatize\n",
        "lemmatizer = WordNetLemmatizer()\n",
        "data[\"text_clean\"] = data[\"text_clean\"].apply(lambda tokens: [lemmatizer.lemmatize(token) for token in tokens])"
      ]
    },
    {
      "cell_type": "code",
      "execution_count": 52,
      "metadata": {
        "colab": {
          "base_uri": "https://localhost:8080/",
          "height": 206
        },
        "id": "jhlSa65fuERz",
        "outputId": "a10bfac2-4dfa-4d79-82db-e91cebfa19e4"
      },
      "outputs": [
        {
          "output_type": "execute_result",
          "data": {
            "text/plain": [
              "                                               title  \\\n",
              "0  HOLLYWEIRD LIB SUSAN SARANDON Compares Muslim ...   \n",
              "1   Elijah Cummings Called Trump Out To His Face ...   \n",
              "2   Hillary Clinton Says Half Her Cabinet Will Be...   \n",
              "3  Russian bombing of U.S.-backed forces being di...   \n",
              "4  Britain says window to restore Northern Irelan...   \n",
              "\n",
              "                                                text                 date  \\\n",
              "0  There are two small problems with your analogy...         Dec 30, 2015   \n",
              "1  Buried in Trump s bonkers interview with New Y...        April 6, 2017   \n",
              "2  Women make up over 50 percent of this country,...       April 26, 2016   \n",
              "3  WASHINGTON (Reuters) - U.S. Defense Secretary ...  September 18, 2017    \n",
              "4  BELFAST (Reuters) - Northern Ireland s politic...   September 4, 2017    \n",
              "\n",
              "  fake_or_factual                                         text_clean  \n",
              "0       Fake News  [yearold, oscarwinning, actress, described, me...  \n",
              "1       Fake News  [buried, trump, bonkers, interview, new, york,...  \n",
              "2       Fake News  [woman, make, 50, percent, country, grossly, u...  \n",
              "3    Factual News  [u, defense, secretary, jim, mattis, said, mon...  \n",
              "4    Factual News  [northern, ireland, political, party, rapidly,...  "
            ],
            "text/html": [
              "\n",
              "  <div id=\"df-e8b494b1-c1df-4c54-bf3a-972bdd2e0668\" class=\"colab-df-container\">\n",
              "    <div>\n",
              "<style scoped>\n",
              "    .dataframe tbody tr th:only-of-type {\n",
              "        vertical-align: middle;\n",
              "    }\n",
              "\n",
              "    .dataframe tbody tr th {\n",
              "        vertical-align: top;\n",
              "    }\n",
              "\n",
              "    .dataframe thead th {\n",
              "        text-align: right;\n",
              "    }\n",
              "</style>\n",
              "<table border=\"1\" class=\"dataframe\">\n",
              "  <thead>\n",
              "    <tr style=\"text-align: right;\">\n",
              "      <th></th>\n",
              "      <th>title</th>\n",
              "      <th>text</th>\n",
              "      <th>date</th>\n",
              "      <th>fake_or_factual</th>\n",
              "      <th>text_clean</th>\n",
              "    </tr>\n",
              "  </thead>\n",
              "  <tbody>\n",
              "    <tr>\n",
              "      <th>0</th>\n",
              "      <td>HOLLYWEIRD LIB SUSAN SARANDON Compares Muslim ...</td>\n",
              "      <td>There are two small problems with your analogy...</td>\n",
              "      <td>Dec 30, 2015</td>\n",
              "      <td>Fake News</td>\n",
              "      <td>[yearold, oscarwinning, actress, described, me...</td>\n",
              "    </tr>\n",
              "    <tr>\n",
              "      <th>1</th>\n",
              "      <td>Elijah Cummings Called Trump Out To His Face ...</td>\n",
              "      <td>Buried in Trump s bonkers interview with New Y...</td>\n",
              "      <td>April 6, 2017</td>\n",
              "      <td>Fake News</td>\n",
              "      <td>[buried, trump, bonkers, interview, new, york,...</td>\n",
              "    </tr>\n",
              "    <tr>\n",
              "      <th>2</th>\n",
              "      <td>Hillary Clinton Says Half Her Cabinet Will Be...</td>\n",
              "      <td>Women make up over 50 percent of this country,...</td>\n",
              "      <td>April 26, 2016</td>\n",
              "      <td>Fake News</td>\n",
              "      <td>[woman, make, 50, percent, country, grossly, u...</td>\n",
              "    </tr>\n",
              "    <tr>\n",
              "      <th>3</th>\n",
              "      <td>Russian bombing of U.S.-backed forces being di...</td>\n",
              "      <td>WASHINGTON (Reuters) - U.S. Defense Secretary ...</td>\n",
              "      <td>September 18, 2017</td>\n",
              "      <td>Factual News</td>\n",
              "      <td>[u, defense, secretary, jim, mattis, said, mon...</td>\n",
              "    </tr>\n",
              "    <tr>\n",
              "      <th>4</th>\n",
              "      <td>Britain says window to restore Northern Irelan...</td>\n",
              "      <td>BELFAST (Reuters) - Northern Ireland s politic...</td>\n",
              "      <td>September 4, 2017</td>\n",
              "      <td>Factual News</td>\n",
              "      <td>[northern, ireland, political, party, rapidly,...</td>\n",
              "    </tr>\n",
              "  </tbody>\n",
              "</table>\n",
              "</div>\n",
              "    <div class=\"colab-df-buttons\">\n",
              "      \n",
              "  <div class=\"colab-df-container\">\n",
              "    <button class=\"colab-df-convert\" onclick=\"convertToInteractive('df-e8b494b1-c1df-4c54-bf3a-972bdd2e0668')\"\n",
              "            title=\"Convert this dataframe to an interactive table.\"\n",
              "            style=\"display:none;\">\n",
              "      \n",
              "  <svg xmlns=\"http://www.w3.org/2000/svg\" height=\"24px\" viewBox=\"0 -960 960 960\">\n",
              "    <path d=\"M120-120v-720h720v720H120Zm60-500h600v-160H180v160Zm220 220h160v-160H400v160Zm0 220h160v-160H400v160ZM180-400h160v-160H180v160Zm440 0h160v-160H620v160ZM180-180h160v-160H180v160Zm440 0h160v-160H620v160Z\"/>\n",
              "  </svg>\n",
              "    </button>\n",
              "    \n",
              "  <style>\n",
              "    .colab-df-container {\n",
              "      display:flex;\n",
              "      gap: 12px;\n",
              "    }\n",
              "\n",
              "    .colab-df-convert {\n",
              "      background-color: #E8F0FE;\n",
              "      border: none;\n",
              "      border-radius: 50%;\n",
              "      cursor: pointer;\n",
              "      display: none;\n",
              "      fill: #1967D2;\n",
              "      height: 32px;\n",
              "      padding: 0 0 0 0;\n",
              "      width: 32px;\n",
              "    }\n",
              "\n",
              "    .colab-df-convert:hover {\n",
              "      background-color: #E2EBFA;\n",
              "      box-shadow: 0px 1px 2px rgba(60, 64, 67, 0.3), 0px 1px 3px 1px rgba(60, 64, 67, 0.15);\n",
              "      fill: #174EA6;\n",
              "    }\n",
              "\n",
              "    .colab-df-buttons div {\n",
              "      margin-bottom: 4px;\n",
              "    }\n",
              "\n",
              "    [theme=dark] .colab-df-convert {\n",
              "      background-color: #3B4455;\n",
              "      fill: #D2E3FC;\n",
              "    }\n",
              "\n",
              "    [theme=dark] .colab-df-convert:hover {\n",
              "      background-color: #434B5C;\n",
              "      box-shadow: 0px 1px 3px 1px rgba(0, 0, 0, 0.15);\n",
              "      filter: drop-shadow(0px 1px 2px rgba(0, 0, 0, 0.3));\n",
              "      fill: #FFFFFF;\n",
              "    }\n",
              "  </style>\n",
              "\n",
              "    <script>\n",
              "      const buttonEl =\n",
              "        document.querySelector('#df-e8b494b1-c1df-4c54-bf3a-972bdd2e0668 button.colab-df-convert');\n",
              "      buttonEl.style.display =\n",
              "        google.colab.kernel.accessAllowed ? 'block' : 'none';\n",
              "\n",
              "      async function convertToInteractive(key) {\n",
              "        const element = document.querySelector('#df-e8b494b1-c1df-4c54-bf3a-972bdd2e0668');\n",
              "        const dataTable =\n",
              "          await google.colab.kernel.invokeFunction('convertToInteractive',\n",
              "                                                    [key], {});\n",
              "        if (!dataTable) return;\n",
              "\n",
              "        const docLinkHtml = 'Like what you see? Visit the ' +\n",
              "          '<a target=\"_blank\" href=https://colab.research.google.com/notebooks/data_table.ipynb>data table notebook</a>'\n",
              "          + ' to learn more about interactive tables.';\n",
              "        element.innerHTML = '';\n",
              "        dataTable['output_type'] = 'display_data';\n",
              "        await google.colab.output.renderOutput(dataTable, element);\n",
              "        const docLink = document.createElement('div');\n",
              "        docLink.innerHTML = docLinkHtml;\n",
              "        element.appendChild(docLink);\n",
              "      }\n",
              "    </script>\n",
              "  </div>\n",
              "  \n",
              "    </div>\n",
              "  </div>\n",
              "  "
            ]
          },
          "metadata": {},
          "execution_count": 52
        }
      ],
      "source": [
        "data.head()"
      ]
    },
    {
      "cell_type": "code",
      "execution_count": 53,
      "metadata": {
        "colab": {
          "base_uri": "https://localhost:8080/"
        },
        "id": "mu7lBWBXuESC",
        "outputId": "018e6dd3-142a-446c-a696-3c51a138afc1"
      },
      "outputs": [
        {
          "output_type": "stream",
          "name": "stdout",
          "text": [
            "           index  count\n",
            "0        (said,)    560\n",
            "1       (trump,)    520\n",
            "2           (u,)    255\n",
            "3       (state,)    250\n",
            "4   (president,)    226\n",
            "5       (would,)    210\n",
            "6         (one,)    141\n",
            "7        (year,)    128\n",
            "8  (republican,)    128\n",
            "9        (also,)    124\n"
          ]
        }
      ],
      "source": [
        "# most common unigrams after preprocessing\n",
        "tokens_clean = sum(data['text_clean'], [])\n",
        "unigrams = (pd.Series(nltk.ngrams(tokens_clean, 1)).value_counts()).reset_index()[:10]\n",
        "print(unigrams)"
      ]
    },
    {
      "cell_type": "code",
      "execution_count": 54,
      "metadata": {
        "colab": {
          "base_uri": "https://localhost:8080/",
          "height": 787
        },
        "id": "HnuBEKghuESC",
        "outputId": "399fd19a-d0b9-4790-8eb0-ddaedd17a871"
      },
      "outputs": [
        {
          "output_type": "stream",
          "name": "stderr",
          "text": [
            "<ipython-input-54-119343f4cbb3>:3: UserWarning: \n",
            "The palette list has fewer values (1) than needed (10) and will cycle, which may produce an uninterpretable plot.\n",
            "  sns.barplot(x = \"count\",\n"
          ]
        },
        {
          "output_type": "execute_result",
          "data": {
            "text/plain": [
              "[Text(0.5, 1.0, 'Most Common Unigrams After Preprocessing')]"
            ]
          },
          "metadata": {},
          "execution_count": 54
        },
        {
          "output_type": "display_data",
          "data": {
            "text/plain": [
              "<Figure size 1200x800 with 1 Axes>"
            ],
            "image/png": "[encoded data removed]"
          },
          "metadata": {}
        }
      ],
      "source": [
        "unigrams['token'] = unigrams['index'].apply(lambda x: x[0]) # extract the token from the tuple so we can plot it\n",
        "\n",
        "sns.barplot(x = \"count\",\n",
        "            y = \"token\",\n",
        "            data=unigrams,\n",
        "            orient = 'h',\n",
        "            palette=[default_plot_colour],\n",
        "            hue = \"token\", legend = False)\\\n",
        ".set(title='Most Common Unigrams After Preprocessing')"
      ]
    },
    {
      "cell_type": "code",
      "execution_count": 55,
      "metadata": {
        "colab": {
          "base_uri": "https://localhost:8080/"
        },
        "id": "A3EdCXeOuESD",
        "outputId": "5e1b1dae-06a6-4f6e-f206-0d5c5416a05d"
      },
      "outputs": [
        {
          "output_type": "stream",
          "name": "stdout",
          "text": [
            "(donald, trump)        92\n",
            "(united, state)        80\n",
            "(white, house)         72\n",
            "(president, donald)    42\n",
            "(hillary, clinton)     31\n",
            "(new, york)            31\n",
            "(image, via)           29\n",
            "(supreme, court)       29\n",
            "(official, said)       26\n",
            "(food, stamp)          24\n",
            "Name: count, dtype: int64\n"
          ]
        }
      ],
      "source": [
        "# most common bigrams after preprocessing\n",
        "bigrams = (pd.Series(nltk.ngrams(tokens_clean, 2)).value_counts())\n",
        "print(bigrams[:10])"
      ]
    },
    {
      "cell_type": "markdown",
      "metadata": {
        "id": "YeVWjN0quESD"
      },
      "source": [
        "## Sentiment Analysis"
      ]
    },
    {
      "cell_type": "code",
      "execution_count": 56,
      "metadata": {
        "id": "Wvtf7Y0huESD"
      },
      "outputs": [],
      "source": [
        "# use vader to get a neutral sentiment count\n",
        "vader_sentiment = SentimentIntensityAnalyzer()"
      ]
    },
    {
      "cell_type": "code",
      "execution_count": 57,
      "metadata": {
        "id": "Sat1p3D9uESE"
      },
      "outputs": [],
      "source": [
        "data['vader_sentiment_score'] = data['text'].apply(lambda review: vader_sentiment.polarity_scores(review)['compound'])"
      ]
    },
    {
      "cell_type": "code",
      "execution_count": 58,
      "metadata": {
        "id": "el5RwD2KuESE"
      },
      "outputs": [],
      "source": [
        "# create labels\n",
        "bins = [-1, -0.1, 0.1, 1]\n",
        "names = ['negative', 'neutral', 'positive']\n",
        "\n",
        "data['vader_sentiment_label'] = pd.cut(data['vader_sentiment_score'], bins, labels=names)"
      ]
    },
    {
      "cell_type": "code",
      "execution_count": 59,
      "metadata": {
        "colab": {
          "base_uri": "https://localhost:8080/",
          "height": 760
        },
        "id": "1wDANl5SuESE",
        "outputId": "caca74d3-6dd4-41a5-c4d2-8dce20c626b1"
      },
      "outputs": [
        {
          "output_type": "execute_result",
          "data": {
            "text/plain": [
              "<Axes: xlabel='vader_sentiment_label'>"
            ]
          },
          "metadata": {},
          "execution_count": 59
        },
        {
          "output_type": "display_data",
          "data": {
            "text/plain": [
              "<Figure size 1200x800 with 1 Axes>"
            ],
            "image/png": "[encoded data removed]"
          },
          "metadata": {}
        }
      ],
      "source": [
        "data['vader_sentiment_label'].value_counts().plot.bar(color=default_plot_colour)"
      ]
    },
    {
      "cell_type": "code",
      "execution_count": 60,
      "metadata": {
        "colab": {
          "base_uri": "https://localhost:8080/",
          "height": 770
        },
        "id": "ImB8a8L2uESF",
        "outputId": "01259985-53af-414b-c503-0c9fd1727133"
      },
      "outputs": [
        {
          "output_type": "stream",
          "name": "stderr",
          "text": [
            "<ipython-input-60-6a336d60a4e8>:1: UserWarning: The palette list has more values (6) than needed (3), which may not be intended.\n",
            "  sns.countplot(\n"
          ]
        },
        {
          "output_type": "execute_result",
          "data": {
            "text/plain": [
              "[Text(0.5, 1.0, 'Sentiment by News Type')]"
            ]
          },
          "metadata": {},
          "execution_count": 60
        },
        {
          "output_type": "display_data",
          "data": {
            "text/plain": [
              "<Figure size 1200x800 with 1 Axes>"
            ],
            "image/png": "[encoded data removed]"
          },
          "metadata": {}
        }
      ],
      "source": [
        "sns.countplot(\n",
        "    x = 'fake_or_factual',\n",
        "    hue = 'vader_sentiment_label',\n",
        "    palette = sns.color_palette(\"hls\"),\n",
        "    data = data\n",
        ") \\\n",
        ".set(title='Sentiment by News Type')"
      ]
    },
    {
      "cell_type": "markdown",
      "metadata": {
        "id": "HTkvgooQuESF"
      },
      "source": [
        "## LDA"
      ]
    },
    {
      "cell_type": "code",
      "execution_count": 61,
      "metadata": {
        "id": "7yRY7zqmuESF"
      },
      "outputs": [],
      "source": [
        "# fake news data vectorization\n",
        "fake_news_text = data[data['fake_or_factual'] == \"Fake News\"]['text_clean'].reset_index(drop=True)\n",
        "dictionary_fake = corpora.Dictionary(fake_news_text)\n",
        "doc_term_fake = [dictionary_fake.doc2bow(text) for text in fake_news_text]"
      ]
    },
    {
      "cell_type": "code",
      "execution_count": 62,
      "metadata": {
        "colab": {
          "base_uri": "https://localhost:8080/",
          "height": 870
        },
        "id": "wh6Ql2XHuESF",
        "outputId": "77185733-154e-4143-9a4f-b7a0bbb2201e"
      },
      "outputs": [
        {
          "output_type": "stream",
          "name": "stderr",
          "text": [
            "WARNING:gensim.models.ldamodel:too few updates, training might not converge; consider increasing the number of passes or iterations to improve accuracy\n",
            "WARNING:gensim.models.ldamodel:too few updates, training might not converge; consider increasing the number of passes or iterations to improve accuracy\n",
            "WARNING:gensim.models.ldamodel:too few updates, training might not converge; consider increasing the number of passes or iterations to improve accuracy\n",
            "WARNING:gensim.models.ldamodel:too few updates, training might not converge; consider increasing the number of passes or iterations to improve accuracy\n",
            "WARNING:gensim.models.ldamodel:too few updates, training might not converge; consider increasing the number of passes or iterations to improve accuracy\n",
            "WARNING:gensim.models.ldamodel:too few updates, training might not converge; consider increasing the number of passes or iterations to improve accuracy\n",
            "WARNING:gensim.models.ldamodel:too few updates, training might not converge; consider increasing the number of passes or iterations to improve accuracy\n",
            "WARNING:gensim.models.ldamodel:too few updates, training might not converge; consider increasing the number of passes or iterations to improve accuracy\n",
            "WARNING:gensim.models.ldamodel:too few updates, training might not converge; consider increasing the number of passes or iterations to improve accuracy\n",
            "WARNING:gensim.models.ldamodel:too few updates, training might not converge; consider increasing the number of passes or iterations to improve accuracy\n"
          ]
        },
        {
          "output_type": "display_data",
          "data": {
            "text/plain": [
              "<Figure size 1200x800 with 1 Axes>"
            ],
            "image/png": "[encoded data removed]"
          },
          "metadata": {}
        }
      ],
      "source": [
        "# generate coherence scores to determine an optimum number of topics\n",
        "coherence_values = []\n",
        "model_list = []\n",
        "\n",
        "min_topics = 2\n",
        "max_topics = 11\n",
        "\n",
        "for num_topics_i in range(min_topics, max_topics+1):\n",
        "    model = gensim.models.LdaModel(doc_term_fake, num_topics=num_topics_i, id2word = dictionary_fake)\n",
        "    model_list.append(model)\n",
        "    coherence_model = CoherenceModel(model=model, texts=fake_news_text, dictionary=dictionary_fake, coherence='c_v')\n",
        "    coherence_values.append(coherence_model.get_coherence())\n",
        "\n",
        "plt.plot(range(min_topics, max_topics+1), coherence_values)\n",
        "plt.xlabel(\"Number of Topics\")\n",
        "plt.ylabel(\"Coherence score\")\n",
        "plt.legend((\"coherence_values\"), loc='best')\n",
        "plt.show()"
      ]
    },
    {
      "cell_type": "code",
      "execution_count": 63,
      "metadata": {
        "colab": {
          "base_uri": "https://localhost:8080/"
        },
        "id": "3bDR7IlduESG",
        "outputId": "1e8a269d-e876-4cfd-fdec-8447d1bad3ff"
      },
      "outputs": [
        {
          "output_type": "stream",
          "name": "stderr",
          "text": [
            "WARNING:gensim.models.ldamodel:too few updates, training might not converge; consider increasing the number of passes or iterations to improve accuracy\n"
          ]
        },
        {
          "output_type": "execute_result",
          "data": {
            "text/plain": [
              "[(0,\n",
              "  '0.012*\"trump\" + 0.006*\"president\" + 0.005*\"said\" + 0.004*\"republican\" + 0.004*\"clinton\" + 0.004*\"time\" + 0.004*\"would\" + 0.004*\"state\" + 0.004*\"one\" + 0.003*\"people\"'),\n",
              " (1,\n",
              "  '0.014*\"trump\" + 0.007*\"said\" + 0.004*\"u\" + 0.003*\"would\" + 0.003*\"state\" + 0.003*\"woman\" + 0.003*\"right\" + 0.003*\"one\" + 0.003*\"new\" + 0.003*\"also\"'),\n",
              " (2,\n",
              "  '0.007*\"trump\" + 0.005*\"clinton\" + 0.005*\"said\" + 0.004*\"would\" + 0.004*\"u\" + 0.003*\"one\" + 0.003*\"republican\" + 0.003*\"woman\" + 0.003*\"state\" + 0.003*\"syria\"'),\n",
              " (3,\n",
              "  '0.015*\"trump\" + 0.005*\"president\" + 0.004*\"year\" + 0.004*\"said\" + 0.004*\"donald\" + 0.004*\"food\" + 0.003*\"people\" + 0.003*\"million\" + 0.003*\"stamp\" + 0.003*\"time\"'),\n",
              " (4,\n",
              "  '0.008*\"trump\" + 0.006*\"state\" + 0.005*\"president\" + 0.004*\"clinton\" + 0.003*\"one\" + 0.003*\"would\" + 0.003*\"said\" + 0.003*\"u\" + 0.003*\"time\" + 0.003*\"republican\"'),\n",
              " (5,\n",
              "  '0.008*\"trump\" + 0.006*\"clinton\" + 0.004*\"woman\" + 0.004*\"time\" + 0.004*\"one\" + 0.004*\"also\" + 0.003*\"u\" + 0.003*\"state\" + 0.003*\"would\" + 0.003*\"said\"')]"
            ]
          },
          "metadata": {},
          "execution_count": 63
        }
      ],
      "source": [
        "# create lda model\n",
        "num_topics_fake = 6\n",
        "\n",
        "lda_model_fake = gensim.models.LdaModel(corpus=doc_term_fake,\n",
        "                                       id2word=dictionary_fake,\n",
        "                                       num_topics=num_topics_fake)\n",
        "\n",
        "lda_model_fake.print_topics(num_topics=num_topics_fake, num_words=10)"
      ]
    },
    {
      "cell_type": "markdown",
      "metadata": {
        "id": "5wnurcffuESG"
      },
      "source": [
        "## TF-IDF & LSA"
      ]
    },
    {
      "cell_type": "code",
      "execution_count": 66,
      "metadata": {
        "id": "xE-Z1ezLuESG"
      },
      "outputs": [],
      "source": [
        "def tfidf_corpus(doc_term_matrix):\n",
        "    # create a corpus using tfidf vecotization\n",
        "    tfidf = TfidfModel(corpus=doc_term_matrix, normalize=True)\n",
        "    corpus_tfidf = tfidf[doc_term_matrix]\n",
        "    return corpus_tfidf"
      ]
    },
    {
      "cell_type": "code",
      "execution_count": 67,
      "metadata": {
        "id": "FSAzCEoVuESH"
      },
      "outputs": [],
      "source": [
        "def get_coherence_scores(corpus, dictionary, text, min_topics, max_topics):\n",
        "    # generate coherence scores to determine an optimum number of topics\n",
        "    coherence_values = []\n",
        "    model_list = []\n",
        "    for num_topics_i in range(min_topics, max_topics+1):\n",
        "        model = LsiModel(corpus, num_topics=num_topics_i, id2word = dictionary, random_seed=0)\n",
        "        model_list.append(model)\n",
        "        coherence_model = CoherenceModel(model=model, texts=text, dictionary=dictionary, coherence='c_v')\n",
        "        coherence_values.append(coherence_model.get_coherence())\n",
        "    # plot results\n",
        "    plt.plot(range(min_topics, max_topics+1), coherence_values)\n",
        "    plt.xlabel(\"Number of Topics\")\n",
        "    plt.ylabel(\"Coherence score\")\n",
        "    plt.legend((\"coherence_values\"), loc='best')\n",
        "    plt.show()"
      ]
    },
    {
      "cell_type": "code",
      "execution_count": 68,
      "metadata": {
        "colab": {
          "base_uri": "https://localhost:8080/",
          "height": 696
        },
        "id": "6MttcdMtuESH",
        "outputId": "a1162a70-95f9-4f8f-b47e-a69558d6bb39"
      },
      "outputs": [
        {
          "output_type": "display_data",
          "data": {
            "text/plain": [
              "<Figure size 1200x800 with 1 Axes>"
            ],
            "image/png": "[encoded data removed]"
          },
          "metadata": {}
        }
      ],
      "source": [
        "# create tfidf representation\n",
        "corpus_tfidf_fake = tfidf_corpus(doc_term_fake)\n",
        "# coherence scores for fake news data\n",
        "get_coherence_scores(corpus_tfidf_fake, dictionary_fake, fake_news_text, min_topics=2, max_topics=11)"
      ]
    },
    {
      "cell_type": "code",
      "execution_count": 69,
      "metadata": {
        "colab": {
          "base_uri": "https://localhost:8080/"
        },
        "id": "E2oQpcwJuESI",
        "outputId": "e1c5a8d9-cfb3-462e-a1d8-c9bd70501de2"
      },
      "outputs": [
        {
          "output_type": "execute_result",
          "data": {
            "text/plain": [
              "[(0,\n",
              "  '0.218*\"trump\" + 0.135*\"clinton\" + 0.094*\"woman\" + 0.087*\"president\" + 0.086*\"republican\" + 0.085*\"obama\" + 0.084*\"party\" + 0.083*\"school\" + 0.081*\"said\" + 0.079*\"time\"'),\n",
              " (1,\n",
              "  '-0.299*\"boiler\" + -0.253*\"room\" + -0.250*\"acr\" + -0.186*\"jay\" + -0.185*\"animal\" + -0.176*\"episode\" + -0.147*\"analysis\" + -0.122*\"dyer\" + -0.119*\"savant\" + -0.119*\"moralist\"'),\n",
              " (2,\n",
              "  '-0.219*\"school\" + 0.195*\"clinton\" + 0.163*\"conference\" + -0.151*\"county\" + -0.137*\"student\" + 0.120*\"press\" + 0.116*\"trump\" + 0.112*\"hillary\" + -0.101*\"love\" + 0.095*\"email\"'),\n",
              " (3,\n",
              "  '0.375*\"flynn\" + 0.151*\"russian\" + 0.111*\"email\" + 0.109*\"30\" + 0.101*\"department\" + 0.100*\"information\" + 0.100*\"nana\" + 0.099*\"official\" + 0.098*\"mccain\" + -0.096*\"trump\"'),\n",
              " (4,\n",
              "  '-0.235*\"trump\" + -0.223*\"flynn\" + -0.166*\"conference\" + 0.165*\"clinton\" + 0.153*\"dnc\" + 0.151*\"sander\" + 0.127*\"email\" + -0.111*\"press\" + 0.109*\"rich\" + -0.084*\"tax\"')]"
            ]
          },
          "metadata": {},
          "execution_count": 69
        }
      ],
      "source": [
        "# model for fake news data\n",
        "lsa_fake = LsiModel(corpus_tfidf_fake, id2word=dictionary_fake, num_topics=5)\n",
        "lsa_fake.print_topics()"
      ]
    },
    {
      "cell_type": "markdown",
      "metadata": {
        "id": "u59GZDPuuESI"
      },
      "source": [
        "## Predict fake or factual news"
      ]
    },
    {
      "cell_type": "code",
      "execution_count": 70,
      "metadata": {
        "colab": {
          "base_uri": "https://localhost:8080/",
          "height": 293
        },
        "id": "Cl6oONt8uESI",
        "outputId": "e311f444-b677-4a2d-98ad-73bf77860309"
      },
      "outputs": [
        {
          "output_type": "execute_result",
          "data": {
            "text/plain": [
              "                                               title  \\\n",
              "0  HOLLYWEIRD LIB SUSAN SARANDON Compares Muslim ...   \n",
              "1   Elijah Cummings Called Trump Out To His Face ...   \n",
              "2   Hillary Clinton Says Half Her Cabinet Will Be...   \n",
              "3  Russian bombing of U.S.-backed forces being di...   \n",
              "4  Britain says window to restore Northern Irelan...   \n",
              "\n",
              "                                                text                 date  \\\n",
              "0  There are two small problems with your analogy...         Dec 30, 2015   \n",
              "1  Buried in Trump s bonkers interview with New Y...        April 6, 2017   \n",
              "2  Women make up over 50 percent of this country,...       April 26, 2016   \n",
              "3  WASHINGTON (Reuters) - U.S. Defense Secretary ...  September 18, 2017    \n",
              "4  BELFAST (Reuters) - Northern Ireland s politic...   September 4, 2017    \n",
              "\n",
              "  fake_or_factual                                         text_clean  \\\n",
              "0       Fake News  [yearold, oscarwinning, actress, described, me...   \n",
              "1       Fake News  [buried, trump, bonkers, interview, new, york,...   \n",
              "2       Fake News  [woman, make, 50, percent, country, grossly, u...   \n",
              "3    Factual News  [u, defense, secretary, jim, mattis, said, mon...   \n",
              "4    Factual News  [northern, ireland, political, party, rapidly,...   \n",
              "\n",
              "   vader_sentiment_score vader_sentiment_label  \n",
              "0                -0.3660              negative  \n",
              "1                -0.8197              negative  \n",
              "2                 0.9779              positive  \n",
              "3                -0.3400              negative  \n",
              "4                 0.8590              positive  "
            ],
            "text/html": [
              "\n",
              "  <div id=\"df-a4f60ba3-7bbf-4c4b-81cd-9473dfa5a7e7\" class=\"colab-df-container\">\n",
              "    <div>\n",
              "<style scoped>\n",
              "    .dataframe tbody tr th:only-of-type {\n",
              "        vertical-align: middle;\n",
              "    }\n",
              "\n",
              "    .dataframe tbody tr th {\n",
              "        vertical-align: top;\n",
              "    }\n",
              "\n",
              "    .dataframe thead th {\n",
              "        text-align: right;\n",
              "    }\n",
              "</style>\n",
              "<table border=\"1\" class=\"dataframe\">\n",
              "  <thead>\n",
              "    <tr style=\"text-align: right;\">\n",
              "      <th></th>\n",
              "      <th>title</th>\n",
              "      <th>text</th>\n",
              "      <th>date</th>\n",
              "      <th>fake_or_factual</th>\n",
              "      <th>text_clean</th>\n",
              "      <th>vader_sentiment_score</th>\n",
              "      <th>vader_sentiment_label</th>\n",
              "    </tr>\n",
              "  </thead>\n",
              "  <tbody>\n",
              "    <tr>\n",
              "      <th>0</th>\n",
              "      <td>HOLLYWEIRD LIB SUSAN SARANDON Compares Muslim ...</td>\n",
              "      <td>There are two small problems with your analogy...</td>\n",
              "      <td>Dec 30, 2015</td>\n",
              "      <td>Fake News</td>\n",
              "      <td>[yearold, oscarwinning, actress, described, me...</td>\n",
              "      <td>-0.3660</td>\n",
              "      <td>negative</td>\n",
              "    </tr>\n",
              "    <tr>\n",
              "      <th>1</th>\n",
              "      <td>Elijah Cummings Called Trump Out To His Face ...</td>\n",
              "      <td>Buried in Trump s bonkers interview with New Y...</td>\n",
              "      <td>April 6, 2017</td>\n",
              "      <td>Fake News</td>\n",
              "      <td>[buried, trump, bonkers, interview, new, york,...</td>\n",
              "      <td>-0.8197</td>\n",
              "      <td>negative</td>\n",
              "    </tr>\n",
              "    <tr>\n",
              "      <th>2</th>\n",
              "      <td>Hillary Clinton Says Half Her Cabinet Will Be...</td>\n",
              "      <td>Women make up over 50 percent of this country,...</td>\n",
              "      <td>April 26, 2016</td>\n",
              "      <td>Fake News</td>\n",
              "      <td>[woman, make, 50, percent, country, grossly, u...</td>\n",
              "      <td>0.9779</td>\n",
              "      <td>positive</td>\n",
              "    </tr>\n",
              "    <tr>\n",
              "      <th>3</th>\n",
              "      <td>Russian bombing of U.S.-backed forces being di...</td>\n",
              "      <td>WASHINGTON (Reuters) - U.S. Defense Secretary ...</td>\n",
              "      <td>September 18, 2017</td>\n",
              "      <td>Factual News</td>\n",
              "      <td>[u, defense, secretary, jim, mattis, said, mon...</td>\n",
              "      <td>-0.3400</td>\n",
              "      <td>negative</td>\n",
              "    </tr>\n",
              "    <tr>\n",
              "      <th>4</th>\n",
              "      <td>Britain says window to restore Northern Irelan...</td>\n",
              "      <td>BELFAST (Reuters) - Northern Ireland s politic...</td>\n",
              "      <td>September 4, 2017</td>\n",
              "      <td>Factual News</td>\n",
              "      <td>[northern, ireland, political, party, rapidly,...</td>\n",
              "      <td>0.8590</td>\n",
              "      <td>positive</td>\n",
              "    </tr>\n",
              "  </tbody>\n",
              "</table>\n",
              "</div>\n",
              "    <div class=\"colab-df-buttons\">\n",
              "      \n",
              "  <div class=\"colab-df-container\">\n",
              "    <button class=\"colab-df-convert\" onclick=\"convertToInteractive('df-a4f60ba3-7bbf-4c4b-81cd-9473dfa5a7e7')\"\n",
              "            title=\"Convert this dataframe to an interactive table.\"\n",
              "            style=\"display:none;\">\n",
              "      \n",
              "  <svg xmlns=\"http://www.w3.org/2000/svg\" height=\"24px\" viewBox=\"0 -960 960 960\">\n",
              "    <path d=\"M120-120v-720h720v720H120Zm60-500h600v-160H180v160Zm220 220h160v-160H400v160Zm0 220h160v-160H400v160ZM180-400h160v-160H180v160Zm440 0h160v-160H620v160ZM180-180h160v-160H180v160Zm440 0h160v-160H620v160Z\"/>\n",
              "  </svg>\n",
              "    </button>\n",
              "    \n",
              "  <style>\n",
              "    .colab-df-container {\n",
              "      display:flex;\n",
              "      gap: 12px;\n",
              "    }\n",
              "\n",
              "    .colab-df-convert {\n",
              "      background-color: #E8F0FE;\n",
              "      border: none;\n",
              "      border-radius: 50%;\n",
              "      cursor: pointer;\n",
              "      display: none;\n",
              "      fill: #1967D2;\n",
              "      height: 32px;\n",
              "      padding: 0 0 0 0;\n",
              "      width: 32px;\n",
              "    }\n",
              "\n",
              "    .colab-df-convert:hover {\n",
              "      background-color: #E2EBFA;\n",
              "      box-shadow: 0px 1px 2px rgba(60, 64, 67, 0.3), 0px 1px 3px 1px rgba(60, 64, 67, 0.15);\n",
              "      fill: #174EA6;\n",
              "    }\n",
              "\n",
              "    .colab-df-buttons div {\n",
              "      margin-bottom: 4px;\n",
              "    }\n",
              "\n",
              "    [theme=dark] .colab-df-convert {\n",
              "      background-color: #3B4455;\n",
              "      fill: #D2E3FC;\n",
              "    }\n",
              "\n",
              "    [theme=dark] .colab-df-convert:hover {\n",
              "      background-color: #434B5C;\n",
              "      box-shadow: 0px 1px 3px 1px rgba(0, 0, 0, 0.15);\n",
              "      filter: drop-shadow(0px 1px 2px rgba(0, 0, 0, 0.3));\n",
              "      fill: #FFFFFF;\n",
              "    }\n",
              "  </style>\n",
              "\n",
              "    <script>\n",
              "      const buttonEl =\n",
              "        document.querySelector('#df-a4f60ba3-7bbf-4c4b-81cd-9473dfa5a7e7 button.colab-df-convert');\n",
              "      buttonEl.style.display =\n",
              "        google.colab.kernel.accessAllowed ? 'block' : 'none';\n",
              "\n",
              "      async function convertToInteractive(key) {\n",
              "        const element = document.querySelector('#df-a4f60ba3-7bbf-4c4b-81cd-9473dfa5a7e7');\n",
              "        const dataTable =\n",
              "          await google.colab.kernel.invokeFunction('convertToInteractive',\n",
              "                                                    [key], {});\n",
              "        if (!dataTable) return;\n",
              "\n",
              "        const docLinkHtml = 'Like what you see? Visit the ' +\n",
              "          '<a target=\"_blank\" href=https://colab.research.google.com/notebooks/data_table.ipynb>data table notebook</a>'\n",
              "          + ' to learn more about interactive tables.';\n",
              "        element.innerHTML = '';\n",
              "        dataTable['output_type'] = 'display_data';\n",
              "        await google.colab.output.renderOutput(dataTable, element);\n",
              "        const docLink = document.createElement('div');\n",
              "        docLink.innerHTML = docLinkHtml;\n",
              "        element.appendChild(docLink);\n",
              "      }\n",
              "    </script>\n",
              "  </div>\n",
              "  \n",
              "    </div>\n",
              "  </div>\n",
              "  "
            ]
          },
          "metadata": {},
          "execution_count": 70
        }
      ],
      "source": [
        "data.head()"
      ]
    },
    {
      "cell_type": "code",
      "execution_count": 71,
      "metadata": {
        "id": "XGD2H_d9uESI"
      },
      "outputs": [],
      "source": [
        "X = [','.join(map(str, l)) for l in data['text_clean']]\n",
        "Y = data['fake_or_factual']"
      ]
    },
    {
      "cell_type": "code",
      "execution_count": 72,
      "metadata": {
        "id": "C1FOoY8euESJ"
      },
      "outputs": [],
      "source": [
        "# text vectorization - CountVectorizer\n",
        "countvec = CountVectorizer()\n",
        "countvec_fit = countvec.fit_transform(X)\n",
        "bag_of_words = pd.DataFrame(countvec_fit.toarray(), columns = countvec.get_feature_names_out())"
      ]
    },
    {
      "cell_type": "code",
      "execution_count": 73,
      "metadata": {
        "id": "e2ZQ-wqHuESJ"
      },
      "outputs": [],
      "source": [
        "# split into train and test data\n",
        "X_train, X_test, y_train, y_test = train_test_split(bag_of_words, Y, test_size=0.3)"
      ]
    },
    {
      "cell_type": "code",
      "execution_count": 74,
      "metadata": {
        "id": "8-EEIhF_uESJ"
      },
      "outputs": [],
      "source": [
        "lr = LogisticRegression(random_state=0).fit(X_train, y_train)"
      ]
    },
    {
      "cell_type": "code",
      "execution_count": 75,
      "metadata": {
        "id": "zYHvPnGnuESJ"
      },
      "outputs": [],
      "source": [
        "y_pred_lr = lr.predict(X_test)"
      ]
    },
    {
      "cell_type": "code",
      "execution_count": 76,
      "metadata": {
        "colab": {
          "base_uri": "https://localhost:8080/"
        },
        "id": "8DY1AiPuuESK",
        "outputId": "ac74f46d-516c-4c47-9af0-983caa0e8d6a"
      },
      "outputs": [
        {
          "output_type": "execute_result",
          "data": {
            "text/plain": [
              "0.8666666666666667"
            ]
          },
          "metadata": {},
          "execution_count": 76
        }
      ],
      "source": [
        "accuracy_score(y_pred_lr, y_test)"
      ]
    },
    {
      "cell_type": "code",
      "execution_count": 78,
      "metadata": {
        "colab": {
          "base_uri": "https://localhost:8080/"
        },
        "id": "xhFOTQlCuESK",
        "outputId": "3507c4cf-23e0-4af7-d222-7b9528837b62"
      },
      "outputs": [
        {
          "output_type": "stream",
          "name": "stdout",
          "text": [
            "              precision    recall  f1-score   support\n",
            "\n",
            "Factual News       0.87      0.87      0.87        30\n",
            "   Fake News       0.87      0.87      0.87        30\n",
            "\n",
            "    accuracy                           0.87        60\n",
            "   macro avg       0.87      0.87      0.87        60\n",
            "weighted avg       0.87      0.87      0.87        60\n",
            "\n"
          ]
        }
      ],
      "source": [
        "print(classification_report(y_test, y_pred_lr))"
      ]
    },
    {
      "cell_type": "code",
      "execution_count": 79,
      "metadata": {
        "id": "JksWzLBouESK"
      },
      "outputs": [],
      "source": [
        "svm = SGDClassifier().fit(X_train, y_train)"
      ]
    },
    {
      "cell_type": "code",
      "execution_count": 80,
      "metadata": {
        "id": "sg6OE2iyuESK"
      },
      "outputs": [],
      "source": [
        "y_pred_svm = svm.predict(X_test)"
      ]
    },
    {
      "cell_type": "code",
      "execution_count": 81,
      "metadata": {
        "colab": {
          "base_uri": "https://localhost:8080/"
        },
        "id": "m_jkbwpWuESL",
        "outputId": "54cfe85e-140e-4b85-9acd-e3939f46f5b9"
      },
      "outputs": [
        {
          "output_type": "execute_result",
          "data": {
            "text/plain": [
              "0.8666666666666667"
            ]
          },
          "metadata": {},
          "execution_count": 81
        }
      ],
      "source": [
        "accuracy_score(y_pred_svm, y_test)"
      ]
    },
    {
      "cell_type": "code",
      "execution_count": 82,
      "metadata": {
        "colab": {
          "base_uri": "https://localhost:8080/"
        },
        "id": "kl7y1rVIuESL",
        "outputId": "509be7ab-7bb4-41a7-9c5c-952e53fe1f8a"
      },
      "outputs": [
        {
          "output_type": "stream",
          "name": "stdout",
          "text": [
            "              precision    recall  f1-score   support\n",
            "\n",
            "Factual News       0.92      0.80      0.86        30\n",
            "   Fake News       0.82      0.93      0.88        30\n",
            "\n",
            "    accuracy                           0.87        60\n",
            "   macro avg       0.87      0.87      0.87        60\n",
            "weighted avg       0.87      0.87      0.87        60\n",
            "\n"
          ]
        }
      ],
      "source": [
        "print(classification_report(y_test, y_pred_svm))"
      ]
    }
  ],
  "metadata": {
    "kernelspec": {
      "display_name": "nlp_course_env",
      "language": "python",
      "name": "nlp_course_env"
    },
    "language_info": {
      "codemirror_mode": {
        "name": "ipython",
        "version": 3
      },
      "file_extension": ".py",
      "mimetype": "text/x-python",
      "name": "python",
      "nbconvert_exporter": "python",
      "pygments_lexer": "ipython3",
      "version": "3.11.11"
    },
    "colab": {
      "provenance": []
    }
  },
  "nbformat": 4,
  "nbformat_minor": 0
}